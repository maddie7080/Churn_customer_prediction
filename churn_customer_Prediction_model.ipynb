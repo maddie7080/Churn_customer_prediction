{
 "cells": [
  {
   "cell_type": "code",
   "execution_count": 1,
   "id": "bec93037",
   "metadata": {},
   "outputs": [],
   "source": [
    "import pandas as pd\n",
    "import numpy as np\n",
    "import matplotlib.pyplot as plt\n",
    "import seaborn as sns\n",
    "import scipy\n",
    "import statsmodels.formula.api as smf\n",
    "import statsmodels.api as sm\n",
    "from scipy import stats\n",
    "from statsmodels.stats.outliers_influence import variance_inflation_factor\n",
    "%matplotlib inline\n",
    "from sklearn.metrics import classification_report, confusion_matrix\n",
    "from sklearn.model_selection import train_test_split, GridSearchCV\n",
    "from sklearn.ensemble import GradientBoostingClassifier\n",
    "# from sklearn.model_selection import GridSearchCV\n",
    "from sklearn.metrics import roc_auc_score,roc_curve,precision_recall_curve,plot_precision_recall_curve,average_precision_score\n",
    "from sklearn.metrics import roc_curve\n",
    "from sklearn.metrics import precision_recall_curve\n",
    "from sklearn.metrics import plot_precision_recall_curve\n",
    "from sklearn.metrics import average_precision_score\n",
    "from matplotlib import pyplot as plt\n",
    "from numpy import mean\n",
    "from numpy import std\n",
    "from sklearn.datasets import make_classification\n",
    "from sklearn.model_selection import KFold\n",
    "from sklearn.model_selection import cross_val_score"
   ]
  },
  {
   "cell_type": "code",
   "execution_count": 2,
   "id": "8665e2ca",
   "metadata": {
    "scrolled": true
   },
   "outputs": [
    {
     "data": {
      "text/html": [
       "<div>\n",
       "<style scoped>\n",
       "    .dataframe tbody tr th:only-of-type {\n",
       "        vertical-align: middle;\n",
       "    }\n",
       "\n",
       "    .dataframe tbody tr th {\n",
       "        vertical-align: top;\n",
       "    }\n",
       "\n",
       "    .dataframe thead th {\n",
       "        text-align: right;\n",
       "    }\n",
       "</style>\n",
       "<table border=\"1\" class=\"dataframe\">\n",
       "  <thead>\n",
       "    <tr style=\"text-align: right;\">\n",
       "      <th></th>\n",
       "      <th>CIF</th>\n",
       "      <th>CUS_DOB</th>\n",
       "      <th>AGE</th>\n",
       "      <th>CUS_Month_Income</th>\n",
       "      <th>CUS_Gender</th>\n",
       "      <th>CUS_Marital_Status</th>\n",
       "      <th>CUS_Customer_Since</th>\n",
       "      <th>YEARS_WITH_US</th>\n",
       "      <th># total debit transactions for S1</th>\n",
       "      <th># total debit transactions for S2</th>\n",
       "      <th># total debit transactions for S3</th>\n",
       "      <th>total debit amount for S1</th>\n",
       "      <th>total debit amount for S2</th>\n",
       "      <th>total debit amount for S3</th>\n",
       "      <th># total credit transactions for S1</th>\n",
       "      <th># total credit transactions for S2</th>\n",
       "      <th># total credit transactions for S3</th>\n",
       "      <th>total credit amount for S1</th>\n",
       "      <th>total credit amount for S2</th>\n",
       "      <th>total credit amount for S3</th>\n",
       "      <th>total debit amount</th>\n",
       "      <th>total debit transactions</th>\n",
       "      <th>total credit amount</th>\n",
       "      <th>total credit transactions</th>\n",
       "      <th>total transactions</th>\n",
       "      <th>CUS_Target</th>\n",
       "      <th>TAR_Desc</th>\n",
       "      <th>Status</th>\n",
       "    </tr>\n",
       "  </thead>\n",
       "  <tbody>\n",
       "    <tr>\n",
       "      <th>0</th>\n",
       "      <td>XXXXXX</td>\n",
       "      <td>Feb 13 1970 12:00AM</td>\n",
       "      <td>49</td>\n",
       "      <td>7116.64</td>\n",
       "      <td>MALE</td>\n",
       "      <td>MARRIED</td>\n",
       "      <td>1994-06-30</td>\n",
       "      <td>25</td>\n",
       "      <td>277</td>\n",
       "      <td>265</td>\n",
       "      <td>345</td>\n",
       "      <td>1459126.64</td>\n",
       "      <td>1230543.08</td>\n",
       "      <td>2068641.91</td>\n",
       "      <td>10</td>\n",
       "      <td>24</td>\n",
       "      <td>31</td>\n",
       "      <td>1516981.10</td>\n",
       "      <td>1764079.61</td>\n",
       "      <td>2378592.62</td>\n",
       "      <td>4758311.63</td>\n",
       "      <td>887</td>\n",
       "      <td>5659653.33</td>\n",
       "      <td>65</td>\n",
       "      <td>952</td>\n",
       "      <td>2231</td>\n",
       "      <td>EXECUTIVE</td>\n",
       "      <td>ACTIVE</td>\n",
       "    </tr>\n",
       "    <tr>\n",
       "      <th>1</th>\n",
       "      <td>XXXXXX</td>\n",
       "      <td>Sep 20 1973 12:00AM</td>\n",
       "      <td>46</td>\n",
       "      <td>1500000.00</td>\n",
       "      <td>FEMALE</td>\n",
       "      <td>SINGLE</td>\n",
       "      <td>2005-05-19</td>\n",
       "      <td>14</td>\n",
       "      <td>37</td>\n",
       "      <td>15</td>\n",
       "      <td>45</td>\n",
       "      <td>35372.55</td>\n",
       "      <td>20134.00</td>\n",
       "      <td>83856.67</td>\n",
       "      <td>2</td>\n",
       "      <td>4</td>\n",
       "      <td>4</td>\n",
       "      <td>10000.00</td>\n",
       "      <td>19500.00</td>\n",
       "      <td>57500.00</td>\n",
       "      <td>139363.22</td>\n",
       "      <td>97</td>\n",
       "      <td>87000.00</td>\n",
       "      <td>10</td>\n",
       "      <td>107</td>\n",
       "      <td>2223</td>\n",
       "      <td>LOW</td>\n",
       "      <td>ACTIVE</td>\n",
       "    </tr>\n",
       "    <tr>\n",
       "      <th>2</th>\n",
       "      <td>XXXXXX</td>\n",
       "      <td>Jul 18 1966 12:00AM</td>\n",
       "      <td>53</td>\n",
       "      <td>5000000.00</td>\n",
       "      <td>FEMALE</td>\n",
       "      <td>SINGLE</td>\n",
       "      <td>2005-05-20</td>\n",
       "      <td>14</td>\n",
       "      <td>31</td>\n",
       "      <td>14</td>\n",
       "      <td>8</td>\n",
       "      <td>28248.85</td>\n",
       "      <td>4777.66</td>\n",
       "      <td>4348.95</td>\n",
       "      <td>14</td>\n",
       "      <td>8</td>\n",
       "      <td>5</td>\n",
       "      <td>709625.00</td>\n",
       "      <td>240311.84</td>\n",
       "      <td>70946.86</td>\n",
       "      <td>37375.46</td>\n",
       "      <td>53</td>\n",
       "      <td>1020883.70</td>\n",
       "      <td>27</td>\n",
       "      <td>80</td>\n",
       "      <td>2222</td>\n",
       "      <td>MIDLE</td>\n",
       "      <td>ACTIVE</td>\n",
       "    </tr>\n",
       "    <tr>\n",
       "      <th>3</th>\n",
       "      <td>XXXXXX</td>\n",
       "      <td>Jan  9 2004 12:00AM</td>\n",
       "      <td>15</td>\n",
       "      <td>500.00</td>\n",
       "      <td>FEMALE</td>\n",
       "      <td>SINGLE</td>\n",
       "      <td>2005-05-20</td>\n",
       "      <td>14</td>\n",
       "      <td>0</td>\n",
       "      <td>1</td>\n",
       "      <td>0</td>\n",
       "      <td>0.00</td>\n",
       "      <td>4000.00</td>\n",
       "      <td>0.00</td>\n",
       "      <td>5</td>\n",
       "      <td>4</td>\n",
       "      <td>3</td>\n",
       "      <td>30103.05</td>\n",
       "      <td>28089.99</td>\n",
       "      <td>18753.92</td>\n",
       "      <td>4000.00</td>\n",
       "      <td>1</td>\n",
       "      <td>76946.96</td>\n",
       "      <td>12</td>\n",
       "      <td>13</td>\n",
       "      <td>2223</td>\n",
       "      <td>LOW</td>\n",
       "      <td>ACTIVE</td>\n",
       "    </tr>\n",
       "    <tr>\n",
       "      <th>4</th>\n",
       "      <td>XXXXXX</td>\n",
       "      <td>Mar  7 1971 12:00AM</td>\n",
       "      <td>48</td>\n",
       "      <td>9000000.00</td>\n",
       "      <td>FEMALE</td>\n",
       "      <td>SINGLE</td>\n",
       "      <td>2014-06-30</td>\n",
       "      <td>5</td>\n",
       "      <td>15</td>\n",
       "      <td>33</td>\n",
       "      <td>12</td>\n",
       "      <td>69083.38</td>\n",
       "      <td>223007.51</td>\n",
       "      <td>46379.40</td>\n",
       "      <td>8</td>\n",
       "      <td>7</td>\n",
       "      <td>6</td>\n",
       "      <td>195600.00</td>\n",
       "      <td>176000.00</td>\n",
       "      <td>70500.00</td>\n",
       "      <td>338470.29</td>\n",
       "      <td>60</td>\n",
       "      <td>442100.00</td>\n",
       "      <td>21</td>\n",
       "      <td>81</td>\n",
       "      <td>2223</td>\n",
       "      <td>LOW</td>\n",
       "      <td>ACTIVE</td>\n",
       "    </tr>\n",
       "  </tbody>\n",
       "</table>\n",
       "</div>"
      ],
      "text/plain": [
       "      CIF              CUS_DOB  AGE  CUS_Month_Income CUS_Gender  \\\n",
       "0  XXXXXX  Feb 13 1970 12:00AM   49           7116.64       MALE   \n",
       "1  XXXXXX  Sep 20 1973 12:00AM   46        1500000.00     FEMALE   \n",
       "2  XXXXXX  Jul 18 1966 12:00AM   53        5000000.00     FEMALE   \n",
       "3  XXXXXX  Jan  9 2004 12:00AM   15            500.00     FEMALE   \n",
       "4  XXXXXX  Mar  7 1971 12:00AM   48        9000000.00     FEMALE   \n",
       "\n",
       "  CUS_Marital_Status CUS_Customer_Since  YEARS_WITH_US  \\\n",
       "0            MARRIED         1994-06-30             25   \n",
       "1             SINGLE         2005-05-19             14   \n",
       "2             SINGLE         2005-05-20             14   \n",
       "3             SINGLE         2005-05-20             14   \n",
       "4             SINGLE         2014-06-30              5   \n",
       "\n",
       "   # total debit transactions for S1  # total debit transactions for S2  \\\n",
       "0                                277                                265   \n",
       "1                                 37                                 15   \n",
       "2                                 31                                 14   \n",
       "3                                  0                                  1   \n",
       "4                                 15                                 33   \n",
       "\n",
       "   # total debit transactions for S3  total debit amount for S1  \\\n",
       "0                                345                 1459126.64   \n",
       "1                                 45                   35372.55   \n",
       "2                                  8                   28248.85   \n",
       "3                                  0                       0.00   \n",
       "4                                 12                   69083.38   \n",
       "\n",
       "   total debit amount for S2  total debit amount for S3  \\\n",
       "0                 1230543.08                 2068641.91   \n",
       "1                   20134.00                   83856.67   \n",
       "2                    4777.66                    4348.95   \n",
       "3                    4000.00                       0.00   \n",
       "4                  223007.51                   46379.40   \n",
       "\n",
       "   # total credit transactions for S1  # total credit transactions for S2  \\\n",
       "0                                  10                                  24   \n",
       "1                                   2                                   4   \n",
       "2                                  14                                   8   \n",
       "3                                   5                                   4   \n",
       "4                                   8                                   7   \n",
       "\n",
       "   # total credit transactions for S3  total credit amount for S1  \\\n",
       "0                                  31                  1516981.10   \n",
       "1                                   4                    10000.00   \n",
       "2                                   5                   709625.00   \n",
       "3                                   3                    30103.05   \n",
       "4                                   6                   195600.00   \n",
       "\n",
       "   total credit amount for S2  total credit amount for S3  total debit amount  \\\n",
       "0                  1764079.61                  2378592.62          4758311.63   \n",
       "1                    19500.00                    57500.00           139363.22   \n",
       "2                   240311.84                    70946.86            37375.46   \n",
       "3                    28089.99                    18753.92             4000.00   \n",
       "4                   176000.00                    70500.00           338470.29   \n",
       "\n",
       "   total debit transactions  total credit amount  total credit transactions  \\\n",
       "0                       887           5659653.33                         65   \n",
       "1                        97             87000.00                         10   \n",
       "2                        53           1020883.70                         27   \n",
       "3                         1             76946.96                         12   \n",
       "4                        60            442100.00                         21   \n",
       "\n",
       "   total transactions  CUS_Target   TAR_Desc  Status  \n",
       "0                 952        2231  EXECUTIVE  ACTIVE  \n",
       "1                 107        2223        LOW  ACTIVE  \n",
       "2                  80        2222      MIDLE  ACTIVE  \n",
       "3                  13        2223        LOW  ACTIVE  \n",
       "4                  81        2223        LOW  ACTIVE  "
      ]
     },
     "execution_count": 2,
     "metadata": {},
     "output_type": "execute_result"
    }
   ],
   "source": [
    "df=pd.read_excel(\"CHURNDATA.xlsx\")\n",
    "pd.set_option(\"display.max_columns\", 30)\n",
    "df.head(5)"
   ]
  },
  {
   "cell_type": "code",
   "execution_count": 3,
   "id": "f2351ec8",
   "metadata": {},
   "outputs": [],
   "source": [
    "df= df.rename(columns=str.lower)"
   ]
  },
  {
   "cell_type": "markdown",
   "id": "078aa199",
   "metadata": {},
   "source": [
    "# Data Cleaning"
   ]
  },
  {
   "cell_type": "code",
   "execution_count": 4,
   "id": "447ac188",
   "metadata": {},
   "outputs": [
    {
     "data": {
      "text/plain": [
       "cif                                    0\n",
       "cus_dob                                0\n",
       "age                                    0\n",
       "cus_month_income                      11\n",
       "cus_gender                             2\n",
       "cus_marital_status                     0\n",
       "cus_customer_since                     0\n",
       "years_with_us                          0\n",
       "# total debit transactions for s1      0\n",
       "# total debit transactions for s2      0\n",
       "# total debit transactions for s3      0\n",
       "total debit amount for s1              0\n",
       "total debit amount for s2              0\n",
       "total debit amount for s3              0\n",
       "# total credit transactions for s1     0\n",
       "# total credit transactions for s2     0\n",
       "# total credit transactions for s3     0\n",
       "total credit amount for s1             0\n",
       "total credit amount for s2             0\n",
       "total credit amount for s3             0\n",
       "total debit amount                     0\n",
       "total debit transactions               0\n",
       "total credit amount                    0\n",
       "total credit transactions              0\n",
       "total transactions                     0\n",
       "cus_target                             0\n",
       "tar_desc                               0\n",
       "status                                 0\n",
       "dtype: int64"
      ]
     },
     "execution_count": 4,
     "metadata": {},
     "output_type": "execute_result"
    }
   ],
   "source": [
    "df.isnull().sum()"
   ]
  },
  {
   "cell_type": "markdown",
   "id": "abcf1e05",
   "metadata": {},
   "source": [
    "Only the customer month income and customer gender has null value.So this null value can be either droped or replace with measure of central tendancy."
   ]
  },
  {
   "cell_type": "code",
   "execution_count": 5,
   "id": "9e4d50d0",
   "metadata": {},
   "outputs": [
    {
     "data": {
      "text/plain": [
       "2764868.802915993"
      ]
     },
     "execution_count": 5,
     "metadata": {},
     "output_type": "execute_result"
    }
   ],
   "source": [
    "df['cus_month_income'].mean()"
   ]
  },
  {
   "cell_type": "code",
   "execution_count": 6,
   "id": "bb282d32",
   "metadata": {},
   "outputs": [
    {
     "name": "stdout",
     "output_type": "stream",
     "text": [
      "Columns and corresponding null values are:\n",
      " cus_month_income                      11\n",
      "cus_gender                             2\n",
      "cif                                    0\n",
      "# total credit transactions for s2     0\n",
      "tar_desc                               0\n",
      "cus_target                             0\n",
      "total transactions                     0\n",
      "total credit transactions              0\n",
      "total credit amount                    0\n",
      "total debit transactions               0\n",
      "total debit amount                     0\n",
      "total credit amount for s3             0\n",
      "total credit amount for s2             0\n",
      "total credit amount for s1             0\n",
      "# total credit transactions for s3     0\n",
      "# total credit transactions for s1     0\n",
      "cus_dob                                0\n",
      "total debit amount for s3              0\n",
      "total debit amount for s2              0\n",
      "total debit amount for s1              0\n",
      "# total debit transactions for s3      0\n",
      "# total debit transactions for s2      0\n",
      "# total debit transactions for s1      0\n",
      "years_with_us                          0\n",
      "cus_customer_since                     0\n",
      "cus_marital_status                     0\n",
      "age                                    0\n",
      "status                                 0\n",
      "dtype: int64\n",
      "After DATA CLEANING:\n",
      " The Sum of Null Values In The Data Set is: 0\n"
     ]
    }
   ],
   "source": [
    "# asking python to read the given values as missing values/ null values.\n",
    "#BEGIN CUSTOM CODE BELOW...\n",
    "# asking python to read the given values as missing values/ null values.\n",
    "missing_value = [\"nan\",\"#DIV/0!\",'Missing Values','Missing',' ','-','NA','N/A','NaN','na','#ref', np.nan] \n",
    "\n",
    "#df_1 = pd.read_csv('churndata.csv', na_values = missing_value)\n",
    "df_1 = df.replace([\"nan\",\"#DIV/0!\",'Missing Values','Missing',' ','-','NA','N/A','NaN','na','#ref'],[np.nan]*11)\n",
    "\n",
    "#Finding which columns has missing values\n",
    "print('Columns and corresponding null values are:\\n', df_1.isnull().sum().sort_values(ascending = False))\n",
    "\n",
    "# Filling the NULL values in 'CUS_Month_Income' with mean \n",
    "df_1['cus_month_income'].fillna(2764868.802915993,inplace = True)\n",
    "\n",
    "# Finding mode values to fill na values in,'customer gender' columns\n",
    "customer_gender = df_1['cus_gender'].mode()\n",
    "#Filling null values for 'customer gender'\n",
    "df_1['cus_gender'].fillna(customer_gender.values[0],inplace = True)\n",
    "\n",
    "#Checking if any null values exist\n",
    "print('After DATA CLEANING:\\n The Sum of Null Values In The Data Set is:', df_1.isnull().sum().sum())\n"
   ]
  },
  {
   "cell_type": "code",
   "execution_count": 7,
   "id": "1fc9e386",
   "metadata": {},
   "outputs": [],
   "source": [
    "df= df.rename(columns=str.lower)"
   ]
  },
  {
   "cell_type": "code",
   "execution_count": 8,
   "id": "a1d3ed22",
   "metadata": {
    "scrolled": true
   },
   "outputs": [
    {
     "data": {
      "image/png": "[encoded data removed]",
      "text/plain": [
       "<Figure size 432x288 with 1 Axes>"
      ]
     },
     "metadata": {
      "needs_background": "light"
     },
     "output_type": "display_data"
    }
   ],
   "source": [
    "ax = sns.barplot(x = \"status\", y = \"cus_month_income\", data = df_1)"
   ]
  },
  {
   "cell_type": "markdown",
   "id": "ed2f7ebc",
   "metadata": {},
   "source": [
    "### obs:Average customer month income is quite high for churn customer as compared to active customer."
   ]
  },
  {
   "cell_type": "code",
   "execution_count": 9,
   "id": "0f704778",
   "metadata": {},
   "outputs": [
    {
     "data": {
      "image/png": "[encoded data removed]",
      "text/plain": [
       "<Figure size 432x288 with 1 Axes>"
      ]
     },
     "metadata": {
      "needs_background": "light"
     },
     "output_type": "display_data"
    }
   ],
   "source": [
    "graph_data = df.groupby('status').count()\n",
    "ax = sns.countplot(x = \"cus_gender\",  hue = 'status', data = df_1)\n",
    "\n",
    "total = float(len(df))\n",
    "for p in ax.patches:\n",
    "    percentage = '{:.1f}%'.format(100 * p.get_height()/total)\n",
    "    x = p.get_x() + p.get_width()\n",
    "    y = p.get_height()\n",
    "    ax.annotate(percentage, (x, y),ha='center')\n",
    "plt.show()"
   ]
  },
  {
   "cell_type": "markdown",
   "id": "138e2c65",
   "metadata": {},
   "source": [
    "### obs:The average male customer is quite acitve as compared to female customer also the male churn customer is quite high compared to female churn customer. "
   ]
  },
  {
   "cell_type": "code",
   "execution_count": 10,
   "id": "47cee697",
   "metadata": {},
   "outputs": [
    {
     "data": {
      "image/png": "[encoded data removed]",
      "text/plain": [
       "<Figure size 1440x576 with 1 Axes>"
      ]
     },
     "metadata": {
      "needs_background": "light"
     },
     "output_type": "display_data"
    }
   ],
   "source": [
    "graph_data = df.groupby('status').count()\n",
    "plt.figure(figsize=(20,8))\n",
    "ax = sns.countplot(x = \"cus_marital_status\",  hue = 'status', data = df_1)\n",
    "\n",
    "\n",
    "total = float(len(df))\n",
    "for p in ax.patches:\n",
    "    percentage = '{:.1f}%'.format(100 * p.get_height()/total)\n",
    "    x = p.get_x() + p.get_width()\n",
    "    y = p.get_height()\n",
    "    ax.annotate(percentage, (x, y),ha='center')\n",
    "plt.show()"
   ]
  },
  {
   "cell_type": "markdown",
   "id": "4bf41337",
   "metadata": {},
   "source": [
    "### obs: Mostly the active customer are single one and the second most active customers are married one similalry the churn customer are mostly contributed by single and married as compared to other customer marital status."
   ]
  },
  {
   "cell_type": "code",
   "execution_count": 11,
   "id": "133b2fc0",
   "metadata": {
    "scrolled": true
   },
   "outputs": [
    {
     "data": {
      "image/png": "[encoded data removed]",
      "text/plain": [
       "<Figure size 720x432 with 1 Axes>"
      ]
     },
     "metadata": {
      "needs_background": "light"
     },
     "output_type": "display_data"
    }
   ],
   "source": [
    "plt.figure(figsize=(10,6))\n",
    "ax = sns.barplot(y = \"# total debit transactions for s1\",  x = 'status', data = df)"
   ]
  },
  {
   "cell_type": "markdown",
   "id": "12501d3b",
   "metadata": {},
   "source": [
    "### obs - If the average transaction per season are lesser than 20, then the customer tends to be a churn customer."
   ]
  },
  {
   "cell_type": "code",
   "execution_count": 12,
   "id": "a00d8836",
   "metadata": {
    "scrolled": false
   },
   "outputs": [
    {
     "data": {
      "image/png": "[encoded data removed]",
      "text/plain": [
       "<Figure size 720x432 with 1 Axes>"
      ]
     },
     "metadata": {
      "needs_background": "light"
     },
     "output_type": "display_data"
    }
   ],
   "source": [
    "plt.figure(figsize=(10,6))\n",
    "ax = sns.barplot(y = \"total debit amount for s3\",  x = 'status', data = df_1, ci = None)"
   ]
  },
  {
   "cell_type": "markdown",
   "id": "da419c05",
   "metadata": {},
   "source": [
    "### obs:The debit amount for churn customer is about 3 times lesser than of the active customers. The debit amount for churn customers lies between 20,000 to 1,00,000."
   ]
  },
  {
   "cell_type": "code",
   "execution_count": 13,
   "id": "5d7e801e",
   "metadata": {},
   "outputs": [
    {
     "data": {
      "image/png": "[encoded data removed]",
      "text/plain": [
       "<Figure size 720x432 with 1 Axes>"
      ]
     },
     "metadata": {
      "needs_background": "light"
     },
     "output_type": "display_data"
    }
   ],
   "source": [
    "plt.figure(figsize=(10,6))\n",
    "ax = sns.barplot(y = \"# total credit transactions for s1\",  x = 'status', data = df_1, ci = None)"
   ]
  },
  {
   "cell_type": "markdown",
   "id": "53084e9d",
   "metadata": {},
   "source": [
    "### obs:Total number of credit transactions done by churn customers is around 2 to 3 as opposed to 8 or >8 by active customers "
   ]
  },
  {
   "cell_type": "code",
   "execution_count": 14,
   "id": "bc206bca",
   "metadata": {
    "scrolled": false
   },
   "outputs": [
    {
     "data": {
      "image/png": "[encoded data removed]",
      "text/plain": [
       "<Figure size 720x432 with 1 Axes>"
      ]
     },
     "metadata": {
      "needs_background": "light"
     },
     "output_type": "display_data"
    }
   ],
   "source": [
    "plt.figure(figsize=(10,6))\n",
    "ax = sns.barplot(y = \"total credit amount for s3\",  x = 'status', data = df_1, ci = None)"
   ]
  },
  {
   "cell_type": "markdown",
   "id": "c6ce3101",
   "metadata": {},
   "source": [
    "### obs:Total credit amount for churn customer lies in the range 20,000 to 60,000 as opposed to active customers with avg credit amount of 3.5 lakh or greater than 3.5 lakh. "
   ]
  },
  {
   "cell_type": "code",
   "execution_count": 15,
   "id": "eca70578",
   "metadata": {},
   "outputs": [
    {
     "data": {
      "image/png": "[encoded data removed]",
      "text/plain": [
       "<Figure size 720x432 with 1 Axes>"
      ]
     },
     "metadata": {
      "needs_background": "light"
     },
     "output_type": "display_data"
    }
   ],
   "source": [
    "plt.figure(figsize=(10,6))\n",
    "ax = sns.barplot(y = \"# total debit transactions for s3\",  x = 'status', data = df_1, ci = None)"
   ]
  },
  {
   "cell_type": "markdown",
   "id": "7afb10a9",
   "metadata": {},
   "source": [
    "### obs:Total debit transactions is about 4 to 5 times lesser in churn customer."
   ]
  },
  {
   "cell_type": "markdown",
   "id": "02f41249",
   "metadata": {},
   "source": [
    "### Creating a new column, percentage reduction in debit amount from s1 to s3"
   ]
  },
  {
   "cell_type": "code",
   "execution_count": 16,
   "id": "612578b0",
   "metadata": {},
   "outputs": [
    {
     "name": "stderr",
     "output_type": "stream",
     "text": [
      "<ipython-input-16-89ff7eade20a>:4: SettingWithCopyWarning: \n",
      "A value is trying to be set on a copy of a slice from a DataFrame\n",
      "\n",
      "See the caveats in the documentation: https://pandas.pydata.org/pandas-docs/stable/user_guide/indexing.html#returning-a-view-versus-a-copy\n",
      "  df_1['perc_reduc_debit_amount'][i] = 0\n"
     ]
    }
   ],
   "source": [
    "df['perc_reduc_debit_amount'] = 0\n",
    "for i in range(0,len(df_1)):\n",
    "    if df_1['total debit amount for s1'][i] == 0 or df_1['total debit amount for s3'][i] == 0:\n",
    "        df_1['perc_reduc_debit_amount'][i] = 0\n",
    "        \n",
    "    elif df_1['total debit amount for s1'][i] == 0 and df_1['total debit amount for s3'][i] == 0:\n",
    "        df_1['perc_reduc_debit_amount'][i] = 0\n",
    "    else:\n",
    "        df_1['perc_reduc_debit_amount'] = 100*((df_1['total debit amount for s1'] - df_1['total debit amount for s3'])/df_1['total debit amount for s1']) \n",
    "\n",
    "df_1['perc_reduc_debit_amount'].fillna(value = 0, inplace = True)"
   ]
  },
  {
   "cell_type": "code",
   "execution_count": 17,
   "id": "92ba652a",
   "metadata": {},
   "outputs": [
    {
     "data": {
      "text/html": [
       "<div>\n",
       "<style scoped>\n",
       "    .dataframe tbody tr th:only-of-type {\n",
       "        vertical-align: middle;\n",
       "    }\n",
       "\n",
       "    .dataframe tbody tr th {\n",
       "        vertical-align: top;\n",
       "    }\n",
       "\n",
       "    .dataframe thead th {\n",
       "        text-align: right;\n",
       "    }\n",
       "</style>\n",
       "<table border=\"1\" class=\"dataframe\">\n",
       "  <thead>\n",
       "    <tr style=\"text-align: right;\">\n",
       "      <th></th>\n",
       "      <th>age</th>\n",
       "      <th>cus_month_income</th>\n",
       "      <th>years_with_us</th>\n",
       "      <th># total debit transactions for s1</th>\n",
       "      <th># total debit transactions for s2</th>\n",
       "      <th># total debit transactions for s3</th>\n",
       "      <th>total debit amount for s1</th>\n",
       "      <th>total debit amount for s2</th>\n",
       "      <th>total debit amount for s3</th>\n",
       "      <th># total credit transactions for s1</th>\n",
       "      <th># total credit transactions for s2</th>\n",
       "      <th># total credit transactions for s3</th>\n",
       "      <th>total credit amount for s1</th>\n",
       "      <th>total credit amount for s2</th>\n",
       "      <th>total credit amount for s3</th>\n",
       "      <th>total debit amount</th>\n",
       "      <th>total debit transactions</th>\n",
       "      <th>total credit amount</th>\n",
       "      <th>total credit transactions</th>\n",
       "      <th>total transactions</th>\n",
       "      <th>cus_target</th>\n",
       "      <th>perc_reduc_debit_amount</th>\n",
       "    </tr>\n",
       "  </thead>\n",
       "  <tbody>\n",
       "    <tr>\n",
       "      <th>count</th>\n",
       "      <td>227.000000</td>\n",
       "      <td>2.270000e+02</td>\n",
       "      <td>227.000000</td>\n",
       "      <td>227.000000</td>\n",
       "      <td>227.000000</td>\n",
       "      <td>227.000000</td>\n",
       "      <td>2.270000e+02</td>\n",
       "      <td>2.270000e+02</td>\n",
       "      <td>227.000000</td>\n",
       "      <td>227.00000</td>\n",
       "      <td>227.000000</td>\n",
       "      <td>227.000000</td>\n",
       "      <td>2.270000e+02</td>\n",
       "      <td>2.270000e+02</td>\n",
       "      <td>2.270000e+02</td>\n",
       "      <td>2.270000e+02</td>\n",
       "      <td>227.000000</td>\n",
       "      <td>2.270000e+02</td>\n",
       "      <td>227.000000</td>\n",
       "      <td>227.000000</td>\n",
       "      <td>227.000000</td>\n",
       "      <td>227.000000</td>\n",
       "    </tr>\n",
       "    <tr>\n",
       "      <th>mean</th>\n",
       "      <td>46.414097</td>\n",
       "      <td>3.117658e+06</td>\n",
       "      <td>14.052863</td>\n",
       "      <td>15.259912</td>\n",
       "      <td>12.458150</td>\n",
       "      <td>5.973568</td>\n",
       "      <td>8.747938e+04</td>\n",
       "      <td>5.988930e+04</td>\n",
       "      <td>26034.045330</td>\n",
       "      <td>2.91630</td>\n",
       "      <td>2.766520</td>\n",
       "      <td>1.740088</td>\n",
       "      <td>5.680658e+04</td>\n",
       "      <td>4.735162e+04</td>\n",
       "      <td>2.225776e+04</td>\n",
       "      <td>1.734027e+05</td>\n",
       "      <td>33.691630</td>\n",
       "      <td>1.264160e+05</td>\n",
       "      <td>7.422907</td>\n",
       "      <td>41.114537</td>\n",
       "      <td>2222.674009</td>\n",
       "      <td>-inf</td>\n",
       "    </tr>\n",
       "    <tr>\n",
       "      <th>std</th>\n",
       "      <td>14.971518</td>\n",
       "      <td>7.641486e+06</td>\n",
       "      <td>2.326612</td>\n",
       "      <td>32.786630</td>\n",
       "      <td>36.271857</td>\n",
       "      <td>12.100947</td>\n",
       "      <td>5.906339e+05</td>\n",
       "      <td>3.313161e+05</td>\n",
       "      <td>89841.579995</td>\n",
       "      <td>8.84513</td>\n",
       "      <td>11.054296</td>\n",
       "      <td>4.471970</td>\n",
       "      <td>2.992087e+05</td>\n",
       "      <td>3.630800e+05</td>\n",
       "      <td>1.095943e+05</td>\n",
       "      <td>8.021535e+05</td>\n",
       "      <td>74.924458</td>\n",
       "      <td>6.143592e+05</td>\n",
       "      <td>23.468243</td>\n",
       "      <td>92.557397</td>\n",
       "      <td>1.918559</td>\n",
       "      <td>NaN</td>\n",
       "    </tr>\n",
       "    <tr>\n",
       "      <th>min</th>\n",
       "      <td>14.000000</td>\n",
       "      <td>0.000000e+00</td>\n",
       "      <td>2.000000</td>\n",
       "      <td>0.000000</td>\n",
       "      <td>0.000000</td>\n",
       "      <td>0.000000</td>\n",
       "      <td>0.000000e+00</td>\n",
       "      <td>0.000000e+00</td>\n",
       "      <td>0.000000</td>\n",
       "      <td>0.00000</td>\n",
       "      <td>0.000000</td>\n",
       "      <td>0.000000</td>\n",
       "      <td>0.000000e+00</td>\n",
       "      <td>0.000000e+00</td>\n",
       "      <td>0.000000e+00</td>\n",
       "      <td>0.000000e+00</td>\n",
       "      <td>0.000000</td>\n",
       "      <td>0.000000e+00</td>\n",
       "      <td>0.000000</td>\n",
       "      <td>1.000000</td>\n",
       "      <td>2211.000000</td>\n",
       "      <td>-inf</td>\n",
       "    </tr>\n",
       "    <tr>\n",
       "      <th>25%</th>\n",
       "      <td>37.500000</td>\n",
       "      <td>1.114350e+04</td>\n",
       "      <td>14.000000</td>\n",
       "      <td>1.000000</td>\n",
       "      <td>0.000000</td>\n",
       "      <td>0.000000</td>\n",
       "      <td>6.053900e+02</td>\n",
       "      <td>0.000000e+00</td>\n",
       "      <td>0.000000</td>\n",
       "      <td>0.00000</td>\n",
       "      <td>0.000000</td>\n",
       "      <td>0.000000</td>\n",
       "      <td>0.000000e+00</td>\n",
       "      <td>0.000000e+00</td>\n",
       "      <td>0.000000e+00</td>\n",
       "      <td>2.700000e+03</td>\n",
       "      <td>3.000000</td>\n",
       "      <td>0.000000e+00</td>\n",
       "      <td>0.000000</td>\n",
       "      <td>4.000000</td>\n",
       "      <td>2222.000000</td>\n",
       "      <td>0.000000</td>\n",
       "    </tr>\n",
       "    <tr>\n",
       "      <th>50%</th>\n",
       "      <td>44.000000</td>\n",
       "      <td>1.341000e+06</td>\n",
       "      <td>14.000000</td>\n",
       "      <td>6.000000</td>\n",
       "      <td>2.000000</td>\n",
       "      <td>0.000000</td>\n",
       "      <td>6.350000e+03</td>\n",
       "      <td>2.000000e+03</td>\n",
       "      <td>0.000000</td>\n",
       "      <td>0.00000</td>\n",
       "      <td>0.000000</td>\n",
       "      <td>0.000000</td>\n",
       "      <td>0.000000e+00</td>\n",
       "      <td>0.000000e+00</td>\n",
       "      <td>0.000000e+00</td>\n",
       "      <td>2.010772e+04</td>\n",
       "      <td>14.000000</td>\n",
       "      <td>5.000000e+03</td>\n",
       "      <td>1.000000</td>\n",
       "      <td>17.000000</td>\n",
       "      <td>2223.000000</td>\n",
       "      <td>74.449584</td>\n",
       "    </tr>\n",
       "    <tr>\n",
       "      <th>75%</th>\n",
       "      <td>56.000000</td>\n",
       "      <td>3.000000e+06</td>\n",
       "      <td>14.000000</td>\n",
       "      <td>16.000000</td>\n",
       "      <td>12.000000</td>\n",
       "      <td>6.000000</td>\n",
       "      <td>3.344500e+04</td>\n",
       "      <td>3.043700e+04</td>\n",
       "      <td>8834.350000</td>\n",
       "      <td>4.00000</td>\n",
       "      <td>2.000000</td>\n",
       "      <td>1.000000</td>\n",
       "      <td>2.501921e+04</td>\n",
       "      <td>1.200000e+04</td>\n",
       "      <td>8.151500e+02</td>\n",
       "      <td>9.123375e+04</td>\n",
       "      <td>35.500000</td>\n",
       "      <td>5.668050e+04</td>\n",
       "      <td>6.000000</td>\n",
       "      <td>47.000000</td>\n",
       "      <td>2223.000000</td>\n",
       "      <td>100.000000</td>\n",
       "    </tr>\n",
       "    <tr>\n",
       "      <th>max</th>\n",
       "      <td>119.000000</td>\n",
       "      <td>8.000000e+07</td>\n",
       "      <td>28.000000</td>\n",
       "      <td>366.000000</td>\n",
       "      <td>450.000000</td>\n",
       "      <td>77.000000</td>\n",
       "      <td>8.629665e+06</td>\n",
       "      <td>4.763855e+06</td>\n",
       "      <td>845373.880000</td>\n",
       "      <td>104.00000</td>\n",
       "      <td>126.000000</td>\n",
       "      <td>39.000000</td>\n",
       "      <td>3.850000e+06</td>\n",
       "      <td>5.387378e+06</td>\n",
       "      <td>1.114000e+06</td>\n",
       "      <td>9.366032e+06</td>\n",
       "      <td>893.000000</td>\n",
       "      <td>7.890360e+06</td>\n",
       "      <td>269.000000</td>\n",
       "      <td>1090.000000</td>\n",
       "      <td>2233.000000</td>\n",
       "      <td>100.000000</td>\n",
       "    </tr>\n",
       "  </tbody>\n",
       "</table>\n",
       "</div>"
      ],
      "text/plain": [
       "              age  cus_month_income  years_with_us  \\\n",
       "count  227.000000      2.270000e+02     227.000000   \n",
       "mean    46.414097      3.117658e+06      14.052863   \n",
       "std     14.971518      7.641486e+06       2.326612   \n",
       "min     14.000000      0.000000e+00       2.000000   \n",
       "25%     37.500000      1.114350e+04      14.000000   \n",
       "50%     44.000000      1.341000e+06      14.000000   \n",
       "75%     56.000000      3.000000e+06      14.000000   \n",
       "max    119.000000      8.000000e+07      28.000000   \n",
       "\n",
       "       # total debit transactions for s1  # total debit transactions for s2  \\\n",
       "count                         227.000000                         227.000000   \n",
       "mean                           15.259912                          12.458150   \n",
       "std                            32.786630                          36.271857   \n",
       "min                             0.000000                           0.000000   \n",
       "25%                             1.000000                           0.000000   \n",
       "50%                             6.000000                           2.000000   \n",
       "75%                            16.000000                          12.000000   \n",
       "max                           366.000000                         450.000000   \n",
       "\n",
       "       # total debit transactions for s3  total debit amount for s1  \\\n",
       "count                         227.000000               2.270000e+02   \n",
       "mean                            5.973568               8.747938e+04   \n",
       "std                            12.100947               5.906339e+05   \n",
       "min                             0.000000               0.000000e+00   \n",
       "25%                             0.000000               6.053900e+02   \n",
       "50%                             0.000000               6.350000e+03   \n",
       "75%                             6.000000               3.344500e+04   \n",
       "max                            77.000000               8.629665e+06   \n",
       "\n",
       "       total debit amount for s2  total debit amount for s3  \\\n",
       "count               2.270000e+02                 227.000000   \n",
       "mean                5.988930e+04               26034.045330   \n",
       "std                 3.313161e+05               89841.579995   \n",
       "min                 0.000000e+00                   0.000000   \n",
       "25%                 0.000000e+00                   0.000000   \n",
       "50%                 2.000000e+03                   0.000000   \n",
       "75%                 3.043700e+04                8834.350000   \n",
       "max                 4.763855e+06              845373.880000   \n",
       "\n",
       "       # total credit transactions for s1  # total credit transactions for s2  \\\n",
       "count                           227.00000                          227.000000   \n",
       "mean                              2.91630                            2.766520   \n",
       "std                               8.84513                           11.054296   \n",
       "min                               0.00000                            0.000000   \n",
       "25%                               0.00000                            0.000000   \n",
       "50%                               0.00000                            0.000000   \n",
       "75%                               4.00000                            2.000000   \n",
       "max                             104.00000                          126.000000   \n",
       "\n",
       "       # total credit transactions for s3  total credit amount for s1  \\\n",
       "count                          227.000000                2.270000e+02   \n",
       "mean                             1.740088                5.680658e+04   \n",
       "std                              4.471970                2.992087e+05   \n",
       "min                              0.000000                0.000000e+00   \n",
       "25%                              0.000000                0.000000e+00   \n",
       "50%                              0.000000                0.000000e+00   \n",
       "75%                              1.000000                2.501921e+04   \n",
       "max                             39.000000                3.850000e+06   \n",
       "\n",
       "       total credit amount for s2  total credit amount for s3  \\\n",
       "count                2.270000e+02                2.270000e+02   \n",
       "mean                 4.735162e+04                2.225776e+04   \n",
       "std                  3.630800e+05                1.095943e+05   \n",
       "min                  0.000000e+00                0.000000e+00   \n",
       "25%                  0.000000e+00                0.000000e+00   \n",
       "50%                  0.000000e+00                0.000000e+00   \n",
       "75%                  1.200000e+04                8.151500e+02   \n",
       "max                  5.387378e+06                1.114000e+06   \n",
       "\n",
       "       total debit amount  total debit transactions  total credit amount  \\\n",
       "count        2.270000e+02                227.000000         2.270000e+02   \n",
       "mean         1.734027e+05                 33.691630         1.264160e+05   \n",
       "std          8.021535e+05                 74.924458         6.143592e+05   \n",
       "min          0.000000e+00                  0.000000         0.000000e+00   \n",
       "25%          2.700000e+03                  3.000000         0.000000e+00   \n",
       "50%          2.010772e+04                 14.000000         5.000000e+03   \n",
       "75%          9.123375e+04                 35.500000         5.668050e+04   \n",
       "max          9.366032e+06                893.000000         7.890360e+06   \n",
       "\n",
       "       total credit transactions  total transactions   cus_target  \\\n",
       "count                 227.000000          227.000000   227.000000   \n",
       "mean                    7.422907           41.114537  2222.674009   \n",
       "std                    23.468243           92.557397     1.918559   \n",
       "min                     0.000000            1.000000  2211.000000   \n",
       "25%                     0.000000            4.000000  2222.000000   \n",
       "50%                     1.000000           17.000000  2223.000000   \n",
       "75%                     6.000000           47.000000  2223.000000   \n",
       "max                   269.000000         1090.000000  2233.000000   \n",
       "\n",
       "       perc_reduc_debit_amount  \n",
       "count               227.000000  \n",
       "mean                      -inf  \n",
       "std                        NaN  \n",
       "min                       -inf  \n",
       "25%                   0.000000  \n",
       "50%                  74.449584  \n",
       "75%                 100.000000  \n",
       "max                 100.000000  "
      ]
     },
     "execution_count": 17,
     "metadata": {},
     "output_type": "execute_result"
    }
   ],
   "source": [
    "df_1[df_1['status'] == 'CHURN'].describe()"
   ]
  },
  {
   "cell_type": "code",
   "execution_count": 18,
   "id": "93a7ca95",
   "metadata": {},
   "outputs": [
    {
     "data": {
      "text/html": [
       "<div>\n",
       "<style scoped>\n",
       "    .dataframe tbody tr th:only-of-type {\n",
       "        vertical-align: middle;\n",
       "    }\n",
       "\n",
       "    .dataframe tbody tr th {\n",
       "        vertical-align: top;\n",
       "    }\n",
       "\n",
       "    .dataframe thead th {\n",
       "        text-align: right;\n",
       "    }\n",
       "</style>\n",
       "<table border=\"1\" class=\"dataframe\">\n",
       "  <thead>\n",
       "    <tr style=\"text-align: right;\">\n",
       "      <th></th>\n",
       "      <th>age</th>\n",
       "      <th>cus_month_income</th>\n",
       "      <th>years_with_us</th>\n",
       "      <th># total debit transactions for s1</th>\n",
       "      <th># total debit transactions for s2</th>\n",
       "      <th># total debit transactions for s3</th>\n",
       "      <th>total debit amount for s1</th>\n",
       "      <th>total debit amount for s2</th>\n",
       "      <th>total debit amount for s3</th>\n",
       "      <th># total credit transactions for s1</th>\n",
       "      <th># total credit transactions for s2</th>\n",
       "      <th># total credit transactions for s3</th>\n",
       "      <th>total credit amount for s1</th>\n",
       "      <th>total credit amount for s2</th>\n",
       "      <th>total credit amount for s3</th>\n",
       "      <th>total debit amount</th>\n",
       "      <th>total debit transactions</th>\n",
       "      <th>total credit amount</th>\n",
       "      <th>total credit transactions</th>\n",
       "      <th>total transactions</th>\n",
       "      <th>cus_target</th>\n",
       "      <th>perc_reduc_debit_amount</th>\n",
       "    </tr>\n",
       "  </thead>\n",
       "  <tbody>\n",
       "    <tr>\n",
       "      <th>count</th>\n",
       "      <td>1022.000000</td>\n",
       "      <td>1.022000e+03</td>\n",
       "      <td>1022.000000</td>\n",
       "      <td>1022.000000</td>\n",
       "      <td>1022.000000</td>\n",
       "      <td>1022.000000</td>\n",
       "      <td>1.022000e+03</td>\n",
       "      <td>1.022000e+03</td>\n",
       "      <td>1.022000e+03</td>\n",
       "      <td>1022.000000</td>\n",
       "      <td>1022.000000</td>\n",
       "      <td>1022.000000</td>\n",
       "      <td>1.022000e+03</td>\n",
       "      <td>1.022000e+03</td>\n",
       "      <td>1.022000e+03</td>\n",
       "      <td>1.022000e+03</td>\n",
       "      <td>1022.000000</td>\n",
       "      <td>1.022000e+03</td>\n",
       "      <td>1022.000000</td>\n",
       "      <td>1022.000000</td>\n",
       "      <td>1022.000000</td>\n",
       "      <td>1022.000000</td>\n",
       "    </tr>\n",
       "    <tr>\n",
       "      <th>mean</th>\n",
       "      <td>46.820939</td>\n",
       "      <td>2.686510e+06</td>\n",
       "      <td>14.131115</td>\n",
       "      <td>62.925636</td>\n",
       "      <td>65.280822</td>\n",
       "      <td>68.292564</td>\n",
       "      <td>3.652224e+05</td>\n",
       "      <td>3.643819e+05</td>\n",
       "      <td>3.683623e+05</td>\n",
       "      <td>8.656556</td>\n",
       "      <td>9.493151</td>\n",
       "      <td>10.216243</td>\n",
       "      <td>3.649593e+05</td>\n",
       "      <td>3.773593e+05</td>\n",
       "      <td>3.641409e+05</td>\n",
       "      <td>1.097967e+06</td>\n",
       "      <td>196.499022</td>\n",
       "      <td>1.106460e+06</td>\n",
       "      <td>28.365949</td>\n",
       "      <td>224.864971</td>\n",
       "      <td>2222.212329</td>\n",
       "      <td>-inf</td>\n",
       "    </tr>\n",
       "    <tr>\n",
       "      <th>std</th>\n",
       "      <td>11.650570</td>\n",
       "      <td>4.739039e+06</td>\n",
       "      <td>2.270285</td>\n",
       "      <td>85.530804</td>\n",
       "      <td>84.999259</td>\n",
       "      <td>89.552897</td>\n",
       "      <td>1.645744e+06</td>\n",
       "      <td>1.416094e+06</td>\n",
       "      <td>1.026489e+06</td>\n",
       "      <td>14.173420</td>\n",
       "      <td>13.866986</td>\n",
       "      <td>15.002880</td>\n",
       "      <td>1.793369e+06</td>\n",
       "      <td>1.137820e+06</td>\n",
       "      <td>1.399649e+06</td>\n",
       "      <td>3.431697e+06</td>\n",
       "      <td>248.315345</td>\n",
       "      <td>4.042932e+06</td>\n",
       "      <td>40.087382</td>\n",
       "      <td>277.013306</td>\n",
       "      <td>3.545828</td>\n",
       "      <td>NaN</td>\n",
       "    </tr>\n",
       "    <tr>\n",
       "      <th>min</th>\n",
       "      <td>14.000000</td>\n",
       "      <td>0.000000e+00</td>\n",
       "      <td>0.000000</td>\n",
       "      <td>0.000000</td>\n",
       "      <td>0.000000</td>\n",
       "      <td>0.000000</td>\n",
       "      <td>0.000000e+00</td>\n",
       "      <td>0.000000e+00</td>\n",
       "      <td>0.000000e+00</td>\n",
       "      <td>0.000000</td>\n",
       "      <td>0.000000</td>\n",
       "      <td>0.000000</td>\n",
       "      <td>0.000000e+00</td>\n",
       "      <td>0.000000e+00</td>\n",
       "      <td>0.000000e+00</td>\n",
       "      <td>0.000000e+00</td>\n",
       "      <td>0.000000</td>\n",
       "      <td>0.000000e+00</td>\n",
       "      <td>0.000000</td>\n",
       "      <td>1.000000</td>\n",
       "      <td>2211.000000</td>\n",
       "      <td>-inf</td>\n",
       "    </tr>\n",
       "    <tr>\n",
       "      <th>25%</th>\n",
       "      <td>39.000000</td>\n",
       "      <td>7.193730e+03</td>\n",
       "      <td>14.000000</td>\n",
       "      <td>12.000000</td>\n",
       "      <td>13.000000</td>\n",
       "      <td>13.000000</td>\n",
       "      <td>2.600201e+04</td>\n",
       "      <td>3.044312e+04</td>\n",
       "      <td>3.430077e+04</td>\n",
       "      <td>1.000000</td>\n",
       "      <td>2.000000</td>\n",
       "      <td>2.000000</td>\n",
       "      <td>5.500000e+03</td>\n",
       "      <td>1.012500e+04</td>\n",
       "      <td>1.010000e+04</td>\n",
       "      <td>1.148532e+05</td>\n",
       "      <td>45.000000</td>\n",
       "      <td>5.339888e+04</td>\n",
       "      <td>6.000000</td>\n",
       "      <td>60.000000</td>\n",
       "      <td>2222.000000</td>\n",
       "      <td>-83.234909</td>\n",
       "    </tr>\n",
       "    <tr>\n",
       "      <th>50%</th>\n",
       "      <td>46.000000</td>\n",
       "      <td>1.500000e+06</td>\n",
       "      <td>14.000000</td>\n",
       "      <td>29.500000</td>\n",
       "      <td>32.000000</td>\n",
       "      <td>35.000000</td>\n",
       "      <td>7.257205e+04</td>\n",
       "      <td>8.713190e+04</td>\n",
       "      <td>9.073344e+04</td>\n",
       "      <td>7.000000</td>\n",
       "      <td>6.000000</td>\n",
       "      <td>7.000000</td>\n",
       "      <td>5.773672e+04</td>\n",
       "      <td>7.051245e+04</td>\n",
       "      <td>6.559199e+04</td>\n",
       "      <td>2.830170e+05</td>\n",
       "      <td>101.500000</td>\n",
       "      <td>2.250626e+05</td>\n",
       "      <td>20.000000</td>\n",
       "      <td>120.500000</td>\n",
       "      <td>2223.000000</td>\n",
       "      <td>-9.498254</td>\n",
       "    </tr>\n",
       "    <tr>\n",
       "      <th>75%</th>\n",
       "      <td>55.000000</td>\n",
       "      <td>3.000000e+06</td>\n",
       "      <td>14.000000</td>\n",
       "      <td>78.000000</td>\n",
       "      <td>81.000000</td>\n",
       "      <td>85.000000</td>\n",
       "      <td>2.414844e+05</td>\n",
       "      <td>2.642710e+05</td>\n",
       "      <td>2.872167e+05</td>\n",
       "      <td>9.000000</td>\n",
       "      <td>10.000000</td>\n",
       "      <td>11.000000</td>\n",
       "      <td>2.189419e+05</td>\n",
       "      <td>2.621262e+05</td>\n",
       "      <td>2.619251e+05</td>\n",
       "      <td>8.113119e+05</td>\n",
       "      <td>232.000000</td>\n",
       "      <td>8.072595e+05</td>\n",
       "      <td>32.000000</td>\n",
       "      <td>272.750000</td>\n",
       "      <td>2223.000000</td>\n",
       "      <td>30.523860</td>\n",
       "    </tr>\n",
       "    <tr>\n",
       "      <th>max</th>\n",
       "      <td>87.000000</td>\n",
       "      <td>5.000000e+07</td>\n",
       "      <td>28.000000</td>\n",
       "      <td>715.000000</td>\n",
       "      <td>547.000000</td>\n",
       "      <td>757.000000</td>\n",
       "      <td>3.573349e+07</td>\n",
       "      <td>3.723382e+07</td>\n",
       "      <td>1.866511e+07</td>\n",
       "      <td>189.000000</td>\n",
       "      <td>142.000000</td>\n",
       "      <td>169.000000</td>\n",
       "      <td>4.920688e+07</td>\n",
       "      <td>1.753799e+07</td>\n",
       "      <td>3.764708e+07</td>\n",
       "      <td>6.997262e+07</td>\n",
       "      <td>1859.000000</td>\n",
       "      <td>1.043919e+08</td>\n",
       "      <td>429.000000</td>\n",
       "      <td>2174.000000</td>\n",
       "      <td>2236.000000</td>\n",
       "      <td>100.000000</td>\n",
       "    </tr>\n",
       "  </tbody>\n",
       "</table>\n",
       "</div>"
      ],
      "text/plain": [
       "               age  cus_month_income  years_with_us  \\\n",
       "count  1022.000000      1.022000e+03    1022.000000   \n",
       "mean     46.820939      2.686510e+06      14.131115   \n",
       "std      11.650570      4.739039e+06       2.270285   \n",
       "min      14.000000      0.000000e+00       0.000000   \n",
       "25%      39.000000      7.193730e+03      14.000000   \n",
       "50%      46.000000      1.500000e+06      14.000000   \n",
       "75%      55.000000      3.000000e+06      14.000000   \n",
       "max      87.000000      5.000000e+07      28.000000   \n",
       "\n",
       "       # total debit transactions for s1  # total debit transactions for s2  \\\n",
       "count                        1022.000000                        1022.000000   \n",
       "mean                           62.925636                          65.280822   \n",
       "std                            85.530804                          84.999259   \n",
       "min                             0.000000                           0.000000   \n",
       "25%                            12.000000                          13.000000   \n",
       "50%                            29.500000                          32.000000   \n",
       "75%                            78.000000                          81.000000   \n",
       "max                           715.000000                         547.000000   \n",
       "\n",
       "       # total debit transactions for s3  total debit amount for s1  \\\n",
       "count                        1022.000000               1.022000e+03   \n",
       "mean                           68.292564               3.652224e+05   \n",
       "std                            89.552897               1.645744e+06   \n",
       "min                             0.000000               0.000000e+00   \n",
       "25%                            13.000000               2.600201e+04   \n",
       "50%                            35.000000               7.257205e+04   \n",
       "75%                            85.000000               2.414844e+05   \n",
       "max                           757.000000               3.573349e+07   \n",
       "\n",
       "       total debit amount for s2  total debit amount for s3  \\\n",
       "count               1.022000e+03               1.022000e+03   \n",
       "mean                3.643819e+05               3.683623e+05   \n",
       "std                 1.416094e+06               1.026489e+06   \n",
       "min                 0.000000e+00               0.000000e+00   \n",
       "25%                 3.044312e+04               3.430077e+04   \n",
       "50%                 8.713190e+04               9.073344e+04   \n",
       "75%                 2.642710e+05               2.872167e+05   \n",
       "max                 3.723382e+07               1.866511e+07   \n",
       "\n",
       "       # total credit transactions for s1  # total credit transactions for s2  \\\n",
       "count                         1022.000000                         1022.000000   \n",
       "mean                             8.656556                            9.493151   \n",
       "std                             14.173420                           13.866986   \n",
       "min                              0.000000                            0.000000   \n",
       "25%                              1.000000                            2.000000   \n",
       "50%                              7.000000                            6.000000   \n",
       "75%                              9.000000                           10.000000   \n",
       "max                            189.000000                          142.000000   \n",
       "\n",
       "       # total credit transactions for s3  total credit amount for s1  \\\n",
       "count                         1022.000000                1.022000e+03   \n",
       "mean                            10.216243                3.649593e+05   \n",
       "std                             15.002880                1.793369e+06   \n",
       "min                              0.000000                0.000000e+00   \n",
       "25%                              2.000000                5.500000e+03   \n",
       "50%                              7.000000                5.773672e+04   \n",
       "75%                             11.000000                2.189419e+05   \n",
       "max                            169.000000                4.920688e+07   \n",
       "\n",
       "       total credit amount for s2  total credit amount for s3  \\\n",
       "count                1.022000e+03                1.022000e+03   \n",
       "mean                 3.773593e+05                3.641409e+05   \n",
       "std                  1.137820e+06                1.399649e+06   \n",
       "min                  0.000000e+00                0.000000e+00   \n",
       "25%                  1.012500e+04                1.010000e+04   \n",
       "50%                  7.051245e+04                6.559199e+04   \n",
       "75%                  2.621262e+05                2.619251e+05   \n",
       "max                  1.753799e+07                3.764708e+07   \n",
       "\n",
       "       total debit amount  total debit transactions  total credit amount  \\\n",
       "count        1.022000e+03               1022.000000         1.022000e+03   \n",
       "mean         1.097967e+06                196.499022         1.106460e+06   \n",
       "std          3.431697e+06                248.315345         4.042932e+06   \n",
       "min          0.000000e+00                  0.000000         0.000000e+00   \n",
       "25%          1.148532e+05                 45.000000         5.339888e+04   \n",
       "50%          2.830170e+05                101.500000         2.250626e+05   \n",
       "75%          8.113119e+05                232.000000         8.072595e+05   \n",
       "max          6.997262e+07               1859.000000         1.043919e+08   \n",
       "\n",
       "       total credit transactions  total transactions   cus_target  \\\n",
       "count                1022.000000         1022.000000  1022.000000   \n",
       "mean                   28.365949          224.864971  2222.212329   \n",
       "std                    40.087382          277.013306     3.545828   \n",
       "min                     0.000000            1.000000  2211.000000   \n",
       "25%                     6.000000           60.000000  2222.000000   \n",
       "50%                    20.000000          120.500000  2223.000000   \n",
       "75%                    32.000000          272.750000  2223.000000   \n",
       "max                   429.000000         2174.000000  2236.000000   \n",
       "\n",
       "       perc_reduc_debit_amount  \n",
       "count              1022.000000  \n",
       "mean                      -inf  \n",
       "std                        NaN  \n",
       "min                       -inf  \n",
       "25%                 -83.234909  \n",
       "50%                  -9.498254  \n",
       "75%                  30.523860  \n",
       "max                 100.000000  "
      ]
     },
     "execution_count": 18,
     "metadata": {},
     "output_type": "execute_result"
    }
   ],
   "source": [
    "df_1[df_1['status'] == 'ACTIVE'].describe()"
   ]
  },
  {
   "cell_type": "code",
   "execution_count": 19,
   "id": "d67c996d",
   "metadata": {
    "scrolled": true
   },
   "outputs": [
    {
     "data": {
      "image/png": "[encoded data removed]",
      "text/plain": [
       "<Figure size 720x432 with 1 Axes>"
      ]
     },
     "metadata": {
      "needs_background": "light"
     },
     "output_type": "display_data"
    }
   ],
   "source": [
    "plt.figure(figsize=(10,6))\n",
    "ax = sns.barplot(y = \"total debit amount\",  x = 'status', data = df_1, ci = None)"
   ]
  },
  {
   "cell_type": "markdown",
   "id": "b0836d8e",
   "metadata": {},
   "source": [
    "### obs:The average Total Debit amount for churn customer is quite low which is around 1,65,000 as compared to active customer."
   ]
  },
  {
   "cell_type": "code",
   "execution_count": 20,
   "id": "1b8ea751",
   "metadata": {},
   "outputs": [
    {
     "data": {
      "image/png": "[encoded data removed]",
      "text/plain": [
       "<Figure size 720x432 with 1 Axes>"
      ]
     },
     "metadata": {
      "needs_background": "light"
     },
     "output_type": "display_data"
    }
   ],
   "source": [
    "plt.figure(figsize=(10,6))\n",
    "ax = sns.barplot(y = \"total credit transactions\",  x = 'status', data = df_1, ci = None)"
   ]
  },
  {
   "cell_type": "markdown",
   "id": "2098a9c4",
   "metadata": {},
   "source": [
    "### obs:The average total credit transactions for churn customer is around 7."
   ]
  },
  {
   "cell_type": "code",
   "execution_count": 21,
   "id": "a1172b98",
   "metadata": {},
   "outputs": [
    {
     "data": {
      "image/png": "[encoded data removed]",
      "text/plain": [
       "<Figure size 720x432 with 1 Axes>"
      ]
     },
     "metadata": {
      "needs_background": "light"
     },
     "output_type": "display_data"
    }
   ],
   "source": [
    "plt.figure(figsize=(10,6))\n",
    "ax = sns.barplot(y = \"total transactions\",  x = 'status', data = df_1, ci = None)"
   ]
  },
  {
   "cell_type": "markdown",
   "id": "34b76615",
   "metadata": {},
   "source": [
    "### obs:The average total transactions for churn customer in an year is around 40 as compared to active customer."
   ]
  },
  {
   "cell_type": "code",
   "execution_count": 22,
   "id": "7710fc7e",
   "metadata": {},
   "outputs": [
    {
     "data": {
      "image/png": "[encoded data removed]",
      "text/plain": [
       "<Figure size 432x288 with 1 Axes>"
      ]
     },
     "metadata": {
      "needs_background": "light"
     },
     "output_type": "display_data"
    }
   ],
   "source": [
    "graph_data = df.groupby('status').count()\n",
    "ax = sns.countplot(x = \"tar_desc\",  hue = 'status', data = df_1)\n",
    "\n",
    "total = float(len(df))\n",
    "for p in ax.patches:\n",
    "    percentage = '{:.1f}%'.format(100 * p.get_height()/total)\n",
    "    x = p.get_x() + p.get_width()\n",
    "    y = p.get_height()\n",
    "    ax.annotate(percentage, (x, y),ha='center')\n",
    "plt.show()"
   ]
  },
  {
   "cell_type": "markdown",
   "id": "5bcb89bb",
   "metadata": {},
   "source": [
    "### obs:people who are tagged as LOW and MIDDLE under tar_desc are one of the major source of churn customers."
   ]
  },
  {
   "cell_type": "code",
   "execution_count": 23,
   "id": "14e59bb7",
   "metadata": {},
   "outputs": [],
   "source": [
    "#import label encoder from sklearn\n",
    "from sklearn.preprocessing import LabelEncoder\n",
    "lb_make=LabelEncoder()"
   ]
  },
  {
   "cell_type": "code",
   "execution_count": 24,
   "id": "ec917ed1",
   "metadata": {},
   "outputs": [],
   "source": [
    "df_1['tar_desc']=lb_make.fit_transform(df_1['tar_desc'])"
   ]
  },
  {
   "cell_type": "code",
   "execution_count": 25,
   "id": "a82abf51",
   "metadata": {},
   "outputs": [],
   "source": [
    "df_1['cus_gender']=lb_make.fit_transform(df_1['cus_gender'])"
   ]
  },
  {
   "cell_type": "code",
   "execution_count": 26,
   "id": "235491b3",
   "metadata": {},
   "outputs": [],
   "source": [
    "df_1['cus_marital_status']=lb_make.fit_transform(df_1['cus_marital_status'])"
   ]
  },
  {
   "cell_type": "code",
   "execution_count": 27,
   "id": "6d07a6a2",
   "metadata": {},
   "outputs": [],
   "source": [
    "df_1['cus_target']=lb_make.fit_transform(df_1['cus_target'])"
   ]
  },
  {
   "cell_type": "code",
   "execution_count": 28,
   "id": "ad008e19",
   "metadata": {},
   "outputs": [],
   "source": [
    "df_1['status']=lb_make.fit_transform(df_1['status'])"
   ]
  },
  {
   "cell_type": "code",
   "execution_count": 29,
   "id": "16e434ea",
   "metadata": {
    "scrolled": true
   },
   "outputs": [
    {
     "data": {
      "text/plain": [
       "Index(['cif', 'cus_dob', 'age', 'cus_month_income', 'cus_gender',\n",
       "       'cus_marital_status', 'cus_customer_since', 'years_with_us',\n",
       "       '# total debit transactions for s1',\n",
       "       '# total debit transactions for s2',\n",
       "       '# total debit transactions for s3', 'total debit amount for s1',\n",
       "       'total debit amount for s2', 'total debit amount for s3',\n",
       "       '# total credit transactions for s1',\n",
       "       '# total credit transactions for s2',\n",
       "       '# total credit transactions for s3', 'total credit amount for s1',\n",
       "       'total credit amount for s2', 'total credit amount for s3',\n",
       "       'total debit amount', 'total debit transactions', 'total credit amount',\n",
       "       'total credit transactions', 'total transactions', 'cus_target',\n",
       "       'tar_desc', 'status', 'perc_reduc_debit_amount'],\n",
       "      dtype='object')"
      ]
     },
     "execution_count": 29,
     "metadata": {},
     "output_type": "execute_result"
    }
   ],
   "source": [
    "df_1.columns"
   ]
  },
  {
   "cell_type": "code",
   "execution_count": 30,
   "id": "3326b26c",
   "metadata": {},
   "outputs": [],
   "source": [
    "## for statistical test\n",
    "import scipy\n",
    "import statsmodels.formula.api as smf\n",
    "import statsmodels.api as sm"
   ]
  },
  {
   "cell_type": "code",
   "execution_count": 31,
   "id": "fd95e2ce",
   "metadata": {},
   "outputs": [],
   "source": [
    "data=['age', 'cus_month_income', 'years_with_us',\n",
    "       '# total debit transactions for s1',\n",
    "       '# total debit transactions for s2',\n",
    "       '# total debit transactions for s3', 'total debit amount for s1',\n",
    "       'total debit amount for s2', 'total debit amount for s3',\n",
    "       '# total credit transactions for s1',\n",
    "       '# total credit transactions for s2',\n",
    "       '# total credit transactions for s3', 'total credit amount for s1',\n",
    "       'total credit amount for s2', 'total credit amount for s3',\n",
    "       'total debit amount', 'total debit transactions', 'total credit amount',\n",
    "       'total credit transactions', 'total transactions']"
   ]
  },
  {
   "cell_type": "code",
   "execution_count": 32,
   "id": "f191db6e",
   "metadata": {},
   "outputs": [
    {
     "name": "stdout",
     "output_type": "stream",
     "text": [
      "Cramer Correlation: 0.18 Significant (p-value:0.001)\n",
      "Cramer Correlation: 0.0 Non-Significant (p-value:0.657)\n",
      "Cramer Correlation: 0.044 Non-Significant (p-value:0.326)\n",
      "Cramer Correlation: 0.096 Non-Significant (p-value:0.285)\n",
      "Cramer Correlation: 0.259 Significant (p-value:0.0)\n",
      "Cramer Correlation: 0.428 Significant (p-value:0.0)\n",
      "Cramer Correlation: 0.0 Non-Significant (p-value:0.969)\n",
      "Cramer Correlation: 0.0 Non-Significant (p-value:0.999)\n",
      "Cramer Correlation: 0.0 Non-Significant (p-value:0.997)\n",
      "Cramer Correlation: 0.281 Significant (p-value:0.0)\n",
      "Cramer Correlation: 0.38 Significant (p-value:0.0)\n",
      "Cramer Correlation: 0.435 Significant (p-value:0.0)\n",
      "Cramer Correlation: 0.0 Non-Significant (p-value:1.0)\n",
      "Cramer Correlation: 0.0 Non-Significant (p-value:1.0)\n",
      "Cramer Correlation: 0.0 Non-Significant (p-value:1.0)\n",
      "Cramer Correlation: 0.0 Non-Significant (p-value:0.538)\n",
      "Cramer Correlation: 0.173 Non-Significant (p-value:0.102)\n",
      "Cramer Correlation: 0.0 Non-Significant (p-value:1.0)\n",
      "Cramer Correlation: 0.338 Significant (p-value:0.0)\n",
      "Cramer Correlation: 0.154 Non-Significant (p-value:0.163)\n"
     ]
    }
   ],
   "source": [
    "for i in range(0,20):\n",
    "    x, y = \"status\", data[i]\n",
    "    cont_table = pd.crosstab(index=df_1[x], columns=df_1[y])\n",
    "    chi2_test = scipy.stats.chi2_contingency(cont_table)\n",
    "    chi2, p = chi2_test[0], chi2_test[1]\n",
    "    n = cont_table.sum().sum()\n",
    "    phi2 = chi2/n\n",
    "    r,k = cont_table.shape\n",
    "    phi2corr = max(0, phi2-((k-1)*(r-1))/(n-1))\n",
    "    rcorr = r-((r-1)**2)/(n-1)\n",
    "    kcorr = k-((k-1)**2)/(n-1)\n",
    "    coeff = np.sqrt(phi2corr/min((kcorr-1), (rcorr-1)))\n",
    "    coeff, p = round(coeff, 3), round(p, 3)\n",
    "    conclusion = \"Significant\" if p < 0.05 else \"Non-Significant\"\n",
    "    print(\"Cramer Correlation:\", coeff, conclusion, \"(p-value:\"+str(p)+\")\")"
   ]
  },
  {
   "cell_type": "code",
   "execution_count": 33,
   "id": "c87a9f0f",
   "metadata": {},
   "outputs": [],
   "source": [
    "df_corr  = df_1[['age', 'cus_gender',\n",
    "       '# total debit transactions for s2',\n",
    "       '# total debit transactions for s3',\n",
    "       '# total credit transactions for s1',\n",
    "       '# total credit transactions for s2',\n",
    "       '# total credit transactions for s3',\n",
    "       'total credit transactions', 'cus_target',\n",
    "       'tar_desc', 'status']]"
   ]
  },
  {
   "cell_type": "code",
   "execution_count": 34,
   "id": "039028e8",
   "metadata": {},
   "outputs": [],
   "source": [
    "##Heatmap to visualise the correlation matrix\n",
    "df_corr_matrix=['age', 'cus_gender',\n",
    "       '# total debit transactions for s2',\n",
    "       '# total debit transactions for s3',\n",
    "       '# total credit transactions for s1',\n",
    "       '# total credit transactions for s2',\n",
    "       '# total credit transactions for s3',\n",
    "       'total credit transactions', 'cus_target',\n",
    "       'tar_desc', 'status']\n",
    "corr_matrix =df_corr.loc[:,:].corr()"
   ]
  },
  {
   "cell_type": "code",
   "execution_count": 35,
   "id": "02667232",
   "metadata": {},
   "outputs": [
    {
     "data": {
      "text/html": [
       "<div>\n",
       "<style scoped>\n",
       "    .dataframe tbody tr th:only-of-type {\n",
       "        vertical-align: middle;\n",
       "    }\n",
       "\n",
       "    .dataframe tbody tr th {\n",
       "        vertical-align: top;\n",
       "    }\n",
       "\n",
       "    .dataframe thead th {\n",
       "        text-align: right;\n",
       "    }\n",
       "</style>\n",
       "<table border=\"1\" class=\"dataframe\">\n",
       "  <thead>\n",
       "    <tr style=\"text-align: right;\">\n",
       "      <th></th>\n",
       "      <th>age</th>\n",
       "      <th>cus_gender</th>\n",
       "      <th># total debit transactions for s2</th>\n",
       "      <th># total debit transactions for s3</th>\n",
       "      <th># total credit transactions for s1</th>\n",
       "      <th># total credit transactions for s2</th>\n",
       "      <th># total credit transactions for s3</th>\n",
       "      <th>total credit transactions</th>\n",
       "      <th>cus_target</th>\n",
       "      <th>tar_desc</th>\n",
       "      <th>status</th>\n",
       "    </tr>\n",
       "  </thead>\n",
       "  <tbody>\n",
       "    <tr>\n",
       "      <th>age</th>\n",
       "      <td>1.000000</td>\n",
       "      <td>-0.000003</td>\n",
       "      <td>-0.069276</td>\n",
       "      <td>-0.054500</td>\n",
       "      <td>-0.051233</td>\n",
       "      <td>-0.077252</td>\n",
       "      <td>-0.069688</td>\n",
       "      <td>-0.070961</td>\n",
       "      <td>0.005667</td>\n",
       "      <td>-0.050268</td>\n",
       "      <td>-0.012745</td>\n",
       "    </tr>\n",
       "    <tr>\n",
       "      <th>cus_gender</th>\n",
       "      <td>-0.000003</td>\n",
       "      <td>1.000000</td>\n",
       "      <td>0.027475</td>\n",
       "      <td>0.013376</td>\n",
       "      <td>0.007026</td>\n",
       "      <td>0.019722</td>\n",
       "      <td>0.008562</td>\n",
       "      <td>0.012605</td>\n",
       "      <td>-0.009174</td>\n",
       "      <td>-0.025139</td>\n",
       "      <td>0.084427</td>\n",
       "    </tr>\n",
       "    <tr>\n",
       "      <th># total debit transactions for s2</th>\n",
       "      <td>-0.069276</td>\n",
       "      <td>0.027475</td>\n",
       "      <td>1.000000</td>\n",
       "      <td>0.886383</td>\n",
       "      <td>0.604065</td>\n",
       "      <td>0.667330</td>\n",
       "      <td>0.580254</td>\n",
       "      <td>0.661888</td>\n",
       "      <td>-0.016368</td>\n",
       "      <td>0.141812</td>\n",
       "      <td>-0.251523</td>\n",
       "    </tr>\n",
       "    <tr>\n",
       "      <th># total debit transactions for s3</th>\n",
       "      <td>-0.054500</td>\n",
       "      <td>0.013376</td>\n",
       "      <td>0.886383</td>\n",
       "      <td>1.000000</td>\n",
       "      <td>0.578322</td>\n",
       "      <td>0.624711</td>\n",
       "      <td>0.664238</td>\n",
       "      <td>0.668464</td>\n",
       "      <td>0.020060</td>\n",
       "      <td>0.150249</td>\n",
       "      <td>-0.284018</td>\n",
       "    </tr>\n",
       "    <tr>\n",
       "      <th># total credit transactions for s1</th>\n",
       "      <td>-0.051233</td>\n",
       "      <td>0.007026</td>\n",
       "      <td>0.604065</td>\n",
       "      <td>0.578322</td>\n",
       "      <td>1.000000</td>\n",
       "      <td>0.854593</td>\n",
       "      <td>0.731521</td>\n",
       "      <td>0.923109</td>\n",
       "      <td>0.034385</td>\n",
       "      <td>0.102012</td>\n",
       "      <td>-0.163516</td>\n",
       "    </tr>\n",
       "    <tr>\n",
       "      <th># total credit transactions for s2</th>\n",
       "      <td>-0.077252</td>\n",
       "      <td>0.019722</td>\n",
       "      <td>0.667330</td>\n",
       "      <td>0.624711</td>\n",
       "      <td>0.854593</td>\n",
       "      <td>1.000000</td>\n",
       "      <td>0.823725</td>\n",
       "      <td>0.957260</td>\n",
       "      <td>0.027803</td>\n",
       "      <td>0.099420</td>\n",
       "      <td>-0.190187</td>\n",
       "    </tr>\n",
       "    <tr>\n",
       "      <th># total credit transactions for s3</th>\n",
       "      <td>-0.069688</td>\n",
       "      <td>0.008562</td>\n",
       "      <td>0.580254</td>\n",
       "      <td>0.664238</td>\n",
       "      <td>0.731521</td>\n",
       "      <td>0.823725</td>\n",
       "      <td>1.000000</td>\n",
       "      <td>0.915959</td>\n",
       "      <td>0.054004</td>\n",
       "      <td>0.080028</td>\n",
       "      <td>-0.232120</td>\n",
       "    </tr>\n",
       "    <tr>\n",
       "      <th>total credit transactions</th>\n",
       "      <td>-0.070961</td>\n",
       "      <td>0.012605</td>\n",
       "      <td>0.661888</td>\n",
       "      <td>0.668464</td>\n",
       "      <td>0.923109</td>\n",
       "      <td>0.957260</td>\n",
       "      <td>0.915959</td>\n",
       "      <td>1.000000</td>\n",
       "      <td>0.041746</td>\n",
       "      <td>0.100490</td>\n",
       "      <td>-0.210039</td>\n",
       "    </tr>\n",
       "    <tr>\n",
       "      <th>cus_target</th>\n",
       "      <td>0.005667</td>\n",
       "      <td>-0.009174</td>\n",
       "      <td>-0.016368</td>\n",
       "      <td>0.020060</td>\n",
       "      <td>0.034385</td>\n",
       "      <td>0.027803</td>\n",
       "      <td>0.054004</td>\n",
       "      <td>0.041746</td>\n",
       "      <td>1.000000</td>\n",
       "      <td>-0.213823</td>\n",
       "      <td>0.025442</td>\n",
       "    </tr>\n",
       "    <tr>\n",
       "      <th>tar_desc</th>\n",
       "      <td>-0.050268</td>\n",
       "      <td>-0.025139</td>\n",
       "      <td>0.141812</td>\n",
       "      <td>0.150249</td>\n",
       "      <td>0.102012</td>\n",
       "      <td>0.099420</td>\n",
       "      <td>0.080028</td>\n",
       "      <td>0.100490</td>\n",
       "      <td>-0.213823</td>\n",
       "      <td>1.000000</td>\n",
       "      <td>-0.045863</td>\n",
       "    </tr>\n",
       "    <tr>\n",
       "      <th>status</th>\n",
       "      <td>-0.012745</td>\n",
       "      <td>0.084427</td>\n",
       "      <td>-0.251523</td>\n",
       "      <td>-0.284018</td>\n",
       "      <td>-0.163516</td>\n",
       "      <td>-0.190187</td>\n",
       "      <td>-0.232120</td>\n",
       "      <td>-0.210039</td>\n",
       "      <td>0.025442</td>\n",
       "      <td>-0.045863</td>\n",
       "      <td>1.000000</td>\n",
       "    </tr>\n",
       "  </tbody>\n",
       "</table>\n",
       "</div>"
      ],
      "text/plain": [
       "                                         age  cus_gender  \\\n",
       "age                                 1.000000   -0.000003   \n",
       "cus_gender                         -0.000003    1.000000   \n",
       "# total debit transactions for s2  -0.069276    0.027475   \n",
       "# total debit transactions for s3  -0.054500    0.013376   \n",
       "# total credit transactions for s1 -0.051233    0.007026   \n",
       "# total credit transactions for s2 -0.077252    0.019722   \n",
       "# total credit transactions for s3 -0.069688    0.008562   \n",
       "total credit transactions          -0.070961    0.012605   \n",
       "cus_target                          0.005667   -0.009174   \n",
       "tar_desc                           -0.050268   -0.025139   \n",
       "status                             -0.012745    0.084427   \n",
       "\n",
       "                                    # total debit transactions for s2  \\\n",
       "age                                                         -0.069276   \n",
       "cus_gender                                                   0.027475   \n",
       "# total debit transactions for s2                            1.000000   \n",
       "# total debit transactions for s3                            0.886383   \n",
       "# total credit transactions for s1                           0.604065   \n",
       "# total credit transactions for s2                           0.667330   \n",
       "# total credit transactions for s3                           0.580254   \n",
       "total credit transactions                                    0.661888   \n",
       "cus_target                                                  -0.016368   \n",
       "tar_desc                                                     0.141812   \n",
       "status                                                      -0.251523   \n",
       "\n",
       "                                    # total debit transactions for s3  \\\n",
       "age                                                         -0.054500   \n",
       "cus_gender                                                   0.013376   \n",
       "# total debit transactions for s2                            0.886383   \n",
       "# total debit transactions for s3                            1.000000   \n",
       "# total credit transactions for s1                           0.578322   \n",
       "# total credit transactions for s2                           0.624711   \n",
       "# total credit transactions for s3                           0.664238   \n",
       "total credit transactions                                    0.668464   \n",
       "cus_target                                                   0.020060   \n",
       "tar_desc                                                     0.150249   \n",
       "status                                                      -0.284018   \n",
       "\n",
       "                                    # total credit transactions for s1  \\\n",
       "age                                                          -0.051233   \n",
       "cus_gender                                                    0.007026   \n",
       "# total debit transactions for s2                             0.604065   \n",
       "# total debit transactions for s3                             0.578322   \n",
       "# total credit transactions for s1                            1.000000   \n",
       "# total credit transactions for s2                            0.854593   \n",
       "# total credit transactions for s3                            0.731521   \n",
       "total credit transactions                                     0.923109   \n",
       "cus_target                                                    0.034385   \n",
       "tar_desc                                                      0.102012   \n",
       "status                                                       -0.163516   \n",
       "\n",
       "                                    # total credit transactions for s2  \\\n",
       "age                                                          -0.077252   \n",
       "cus_gender                                                    0.019722   \n",
       "# total debit transactions for s2                             0.667330   \n",
       "# total debit transactions for s3                             0.624711   \n",
       "# total credit transactions for s1                            0.854593   \n",
       "# total credit transactions for s2                            1.000000   \n",
       "# total credit transactions for s3                            0.823725   \n",
       "total credit transactions                                     0.957260   \n",
       "cus_target                                                    0.027803   \n",
       "tar_desc                                                      0.099420   \n",
       "status                                                       -0.190187   \n",
       "\n",
       "                                    # total credit transactions for s3  \\\n",
       "age                                                          -0.069688   \n",
       "cus_gender                                                    0.008562   \n",
       "# total debit transactions for s2                             0.580254   \n",
       "# total debit transactions for s3                             0.664238   \n",
       "# total credit transactions for s1                            0.731521   \n",
       "# total credit transactions for s2                            0.823725   \n",
       "# total credit transactions for s3                            1.000000   \n",
       "total credit transactions                                     0.915959   \n",
       "cus_target                                                    0.054004   \n",
       "tar_desc                                                      0.080028   \n",
       "status                                                       -0.232120   \n",
       "\n",
       "                                    total credit transactions  cus_target  \\\n",
       "age                                                 -0.070961    0.005667   \n",
       "cus_gender                                           0.012605   -0.009174   \n",
       "# total debit transactions for s2                    0.661888   -0.016368   \n",
       "# total debit transactions for s3                    0.668464    0.020060   \n",
       "# total credit transactions for s1                   0.923109    0.034385   \n",
       "# total credit transactions for s2                   0.957260    0.027803   \n",
       "# total credit transactions for s3                   0.915959    0.054004   \n",
       "total credit transactions                            1.000000    0.041746   \n",
       "cus_target                                           0.041746    1.000000   \n",
       "tar_desc                                             0.100490   -0.213823   \n",
       "status                                              -0.210039    0.025442   \n",
       "\n",
       "                                    tar_desc    status  \n",
       "age                                -0.050268 -0.012745  \n",
       "cus_gender                         -0.025139  0.084427  \n",
       "# total debit transactions for s2   0.141812 -0.251523  \n",
       "# total debit transactions for s3   0.150249 -0.284018  \n",
       "# total credit transactions for s1  0.102012 -0.163516  \n",
       "# total credit transactions for s2  0.099420 -0.190187  \n",
       "# total credit transactions for s3  0.080028 -0.232120  \n",
       "total credit transactions           0.100490 -0.210039  \n",
       "cus_target                         -0.213823  0.025442  \n",
       "tar_desc                            1.000000 -0.045863  \n",
       "status                             -0.045863  1.000000  "
      ]
     },
     "execution_count": 35,
     "metadata": {},
     "output_type": "execute_result"
    }
   ],
   "source": [
    "corr_matrix"
   ]
  },
  {
   "cell_type": "code",
   "execution_count": 36,
   "id": "42284faf",
   "metadata": {},
   "outputs": [
    {
     "data": {
      "text/plain": [
       "<AxesSubplot:>"
      ]
     },
     "execution_count": 36,
     "metadata": {},
     "output_type": "execute_result"
    },
    {
     "data": {
      "image/png": "[encoded data removed]",
      "text/plain": [
       "<Figure size 1440x720 with 2 Axes>"
      ]
     },
     "metadata": {
      "needs_background": "light"
     },
     "output_type": "display_data"
    }
   ],
   "source": [
    "#Using heatmap to visualize the correlation matrix\n",
    "ax = plt.subplots(figsize =(20, 10))\n",
    "sns.heatmap(corr_matrix,annot=True)"
   ]
  },
  {
   "cell_type": "code",
   "execution_count": 37,
   "id": "1d14b270",
   "metadata": {
    "scrolled": false
   },
   "outputs": [
    {
     "name": "stderr",
     "output_type": "stream",
     "text": [
      "C:\\Users\\Tushar\\anaconda3\\lib\\site-packages\\seaborn\\_decorators.py:36: FutureWarning: Pass the following variable as a keyword arg: x. From version 0.12, the only valid positional argument will be `data`, and passing other arguments without an explicit keyword will result in an error or misinterpretation.\n",
      "  warnings.warn(\n"
     ]
    },
    {
     "data": {
      "image/png": "[encoded data removed]",
      "text/plain": [
       "<Figure size 432x288 with 1 Axes>"
      ]
     },
     "metadata": {
      "needs_background": "light"
     },
     "output_type": "display_data"
    },
    {
     "name": "stderr",
     "output_type": "stream",
     "text": [
      "C:\\Users\\Tushar\\anaconda3\\lib\\site-packages\\seaborn\\_decorators.py:36: FutureWarning: Pass the following variable as a keyword arg: x. From version 0.12, the only valid positional argument will be `data`, and passing other arguments without an explicit keyword will result in an error or misinterpretation.\n",
      "  warnings.warn(\n"
     ]
    },
    {
     "data": {
      "image/png": "[encoded data removed]",
      "text/plain": [
       "<Figure size 432x288 with 1 Axes>"
      ]
     },
     "metadata": {
      "needs_background": "light"
     },
     "output_type": "display_data"
    },
    {
     "name": "stderr",
     "output_type": "stream",
     "text": [
      "C:\\Users\\Tushar\\anaconda3\\lib\\site-packages\\seaborn\\_decorators.py:36: FutureWarning: Pass the following variable as a keyword arg: x. From version 0.12, the only valid positional argument will be `data`, and passing other arguments without an explicit keyword will result in an error or misinterpretation.\n",
      "  warnings.warn(\n"
     ]
    },
    {
     "data": {
      "image/png": "[encoded data removed]",
      "text/plain": [
       "<Figure size 432x288 with 1 Axes>"
      ]
     },
     "metadata": {
      "needs_background": "light"
     },
     "output_type": "display_data"
    },
    {
     "name": "stderr",
     "output_type": "stream",
     "text": [
      "C:\\Users\\Tushar\\anaconda3\\lib\\site-packages\\seaborn\\_decorators.py:36: FutureWarning: Pass the following variable as a keyword arg: x. From version 0.12, the only valid positional argument will be `data`, and passing other arguments without an explicit keyword will result in an error or misinterpretation.\n",
      "  warnings.warn(\n"
     ]
    },
    {
     "data": {
      "image/png": "[encoded data removed]",
      "text/plain": [
       "<Figure size 432x288 with 1 Axes>"
      ]
     },
     "metadata": {
      "needs_background": "light"
     },
     "output_type": "display_data"
    },
    {
     "name": "stderr",
     "output_type": "stream",
     "text": [
      "C:\\Users\\Tushar\\anaconda3\\lib\\site-packages\\seaborn\\_decorators.py:36: FutureWarning: Pass the following variable as a keyword arg: x. From version 0.12, the only valid positional argument will be `data`, and passing other arguments without an explicit keyword will result in an error or misinterpretation.\n",
      "  warnings.warn(\n"
     ]
    },
    {
     "data": {
      "image/png": "[encoded data removed]",
      "text/plain": [
       "<Figure size 432x288 with 1 Axes>"
      ]
     },
     "metadata": {
      "needs_background": "light"
     },
     "output_type": "display_data"
    },
    {
     "name": "stderr",
     "output_type": "stream",
     "text": [
      "C:\\Users\\Tushar\\anaconda3\\lib\\site-packages\\seaborn\\_decorators.py:36: FutureWarning: Pass the following variable as a keyword arg: x. From version 0.12, the only valid positional argument will be `data`, and passing other arguments without an explicit keyword will result in an error or misinterpretation.\n",
      "  warnings.warn(\n"
     ]
    },
    {
     "data": {
      "image/png": "[encoded data removed]",
      "text/plain": [
       "<Figure size 432x288 with 1 Axes>"
      ]
     },
     "metadata": {
      "needs_background": "light"
     },
     "output_type": "display_data"
    },
    {
     "name": "stderr",
     "output_type": "stream",
     "text": [
      "C:\\Users\\Tushar\\anaconda3\\lib\\site-packages\\seaborn\\_decorators.py:36: FutureWarning: Pass the following variable as a keyword arg: x. From version 0.12, the only valid positional argument will be `data`, and passing other arguments without an explicit keyword will result in an error or misinterpretation.\n",
      "  warnings.warn(\n"
     ]
    },
    {
     "data": {
      "image/png": "[encoded data removed]",
      "text/plain": [
       "<Figure size 432x288 with 1 Axes>"
      ]
     },
     "metadata": {
      "needs_background": "light"
     },
     "output_type": "display_data"
    },
    {
     "name": "stderr",
     "output_type": "stream",
     "text": [
      "C:\\Users\\Tushar\\anaconda3\\lib\\site-packages\\seaborn\\_decorators.py:36: FutureWarning: Pass the following variable as a keyword arg: x. From version 0.12, the only valid positional argument will be `data`, and passing other arguments without an explicit keyword will result in an error or misinterpretation.\n",
      "  warnings.warn(\n"
     ]
    },
    {
     "data": {
      "image/png": "[encoded data removed]",
      "text/plain": [
       "<Figure size 432x288 with 1 Axes>"
      ]
     },
     "metadata": {
      "needs_background": "light"
     },
     "output_type": "display_data"
    },
    {
     "name": "stderr",
     "output_type": "stream",
     "text": [
      "C:\\Users\\Tushar\\anaconda3\\lib\\site-packages\\seaborn\\_decorators.py:36: FutureWarning: Pass the following variable as a keyword arg: x. From version 0.12, the only valid positional argument will be `data`, and passing other arguments without an explicit keyword will result in an error or misinterpretation.\n",
      "  warnings.warn(\n"
     ]
    },
    {
     "data": {
      "image/png": "[encoded data removed]",
      "text/plain": [
       "<Figure size 432x288 with 1 Axes>"
      ]
     },
     "metadata": {
      "needs_background": "light"
     },
     "output_type": "display_data"
    },
    {
     "name": "stderr",
     "output_type": "stream",
     "text": [
      "C:\\Users\\Tushar\\anaconda3\\lib\\site-packages\\seaborn\\_decorators.py:36: FutureWarning: Pass the following variable as a keyword arg: x. From version 0.12, the only valid positional argument will be `data`, and passing other arguments without an explicit keyword will result in an error or misinterpretation.\n",
      "  warnings.warn(\n"
     ]
    },
    {
     "data": {
      "image/png": "[encoded data removed]",
      "text/plain": [
       "<Figure size 432x288 with 1 Axes>"
      ]
     },
     "metadata": {
      "needs_background": "light"
     },
     "output_type": "display_data"
    },
    {
     "name": "stderr",
     "output_type": "stream",
     "text": [
      "C:\\Users\\Tushar\\anaconda3\\lib\\site-packages\\seaborn\\_decorators.py:36: FutureWarning: Pass the following variable as a keyword arg: x. From version 0.12, the only valid positional argument will be `data`, and passing other arguments without an explicit keyword will result in an error or misinterpretation.\n",
      "  warnings.warn(\n"
     ]
    },
    {
     "data": {
      "image/png": "[encoded data removed]",
      "text/plain": [
       "<Figure size 432x288 with 1 Axes>"
      ]
     },
     "metadata": {
      "needs_background": "light"
     },
     "output_type": "display_data"
    },
    {
     "name": "stderr",
     "output_type": "stream",
     "text": [
      "C:\\Users\\Tushar\\anaconda3\\lib\\site-packages\\seaborn\\_decorators.py:36: FutureWarning: Pass the following variable as a keyword arg: x. From version 0.12, the only valid positional argument will be `data`, and passing other arguments without an explicit keyword will result in an error or misinterpretation.\n",
      "  warnings.warn(\n"
     ]
    },
    {
     "data": {
      "image/png": "[encoded data removed]",
      "text/plain": [
       "<Figure size 432x288 with 1 Axes>"
      ]
     },
     "metadata": {
      "needs_background": "light"
     },
     "output_type": "display_data"
    },
    {
     "name": "stderr",
     "output_type": "stream",
     "text": [
      "C:\\Users\\Tushar\\anaconda3\\lib\\site-packages\\seaborn\\_decorators.py:36: FutureWarning: Pass the following variable as a keyword arg: x. From version 0.12, the only valid positional argument will be `data`, and passing other arguments without an explicit keyword will result in an error or misinterpretation.\n",
      "  warnings.warn(\n"
     ]
    },
    {
     "data": {
      "image/png": "[encoded data removed]",
      "text/plain": [
       "<Figure size 432x288 with 1 Axes>"
      ]
     },
     "metadata": {
      "needs_background": "light"
     },
     "output_type": "display_data"
    },
    {
     "name": "stderr",
     "output_type": "stream",
     "text": [
      "C:\\Users\\Tushar\\anaconda3\\lib\\site-packages\\seaborn\\_decorators.py:36: FutureWarning: Pass the following variable as a keyword arg: x. From version 0.12, the only valid positional argument will be `data`, and passing other arguments without an explicit keyword will result in an error or misinterpretation.\n",
      "  warnings.warn(\n"
     ]
    },
    {
     "data": {
      "image/png": "[encoded data removed]",
      "text/plain": [
       "<Figure size 432x288 with 1 Axes>"
      ]
     },
     "metadata": {
      "needs_background": "light"
     },
     "output_type": "display_data"
    },
    {
     "name": "stderr",
     "output_type": "stream",
     "text": [
      "C:\\Users\\Tushar\\anaconda3\\lib\\site-packages\\seaborn\\_decorators.py:36: FutureWarning: Pass the following variable as a keyword arg: x. From version 0.12, the only valid positional argument will be `data`, and passing other arguments without an explicit keyword will result in an error or misinterpretation.\n",
      "  warnings.warn(\n"
     ]
    },
    {
     "data": {
      "image/png": "[encoded data removed]",
      "text/plain": [
       "<Figure size 432x288 with 1 Axes>"
      ]
     },
     "metadata": {
      "needs_background": "light"
     },
     "output_type": "display_data"
    },
    {
     "name": "stderr",
     "output_type": "stream",
     "text": [
      "C:\\Users\\Tushar\\anaconda3\\lib\\site-packages\\seaborn\\_decorators.py:36: FutureWarning: Pass the following variable as a keyword arg: x. From version 0.12, the only valid positional argument will be `data`, and passing other arguments without an explicit keyword will result in an error or misinterpretation.\n",
      "  warnings.warn(\n"
     ]
    },
    {
     "data": {
      "image/png": "[encoded data removed]",
      "text/plain": [
       "<Figure size 432x288 with 1 Axes>"
      ]
     },
     "metadata": {
      "needs_background": "light"
     },
     "output_type": "display_data"
    },
    {
     "name": "stderr",
     "output_type": "stream",
     "text": [
      "C:\\Users\\Tushar\\anaconda3\\lib\\site-packages\\seaborn\\_decorators.py:36: FutureWarning: Pass the following variable as a keyword arg: x. From version 0.12, the only valid positional argument will be `data`, and passing other arguments without an explicit keyword will result in an error or misinterpretation.\n",
      "  warnings.warn(\n"
     ]
    },
    {
     "data": {
      "image/png": "[encoded data removed]",
      "text/plain": [
       "<Figure size 432x288 with 1 Axes>"
      ]
     },
     "metadata": {
      "needs_background": "light"
     },
     "output_type": "display_data"
    },
    {
     "name": "stderr",
     "output_type": "stream",
     "text": [
      "C:\\Users\\Tushar\\anaconda3\\lib\\site-packages\\seaborn\\_decorators.py:36: FutureWarning: Pass the following variable as a keyword arg: x. From version 0.12, the only valid positional argument will be `data`, and passing other arguments without an explicit keyword will result in an error or misinterpretation.\n",
      "  warnings.warn(\n"
     ]
    },
    {
     "data": {
      "image/png": "[encoded data removed]",
      "text/plain": [
       "<Figure size 432x288 with 1 Axes>"
      ]
     },
     "metadata": {
      "needs_background": "light"
     },
     "output_type": "display_data"
    },
    {
     "name": "stderr",
     "output_type": "stream",
     "text": [
      "C:\\Users\\Tushar\\anaconda3\\lib\\site-packages\\seaborn\\_decorators.py:36: FutureWarning: Pass the following variable as a keyword arg: x. From version 0.12, the only valid positional argument will be `data`, and passing other arguments without an explicit keyword will result in an error or misinterpretation.\n",
      "  warnings.warn(\n"
     ]
    },
    {
     "data": {
      "image/png": "[encoded data removed]",
      "text/plain": [
       "<Figure size 432x288 with 1 Axes>"
      ]
     },
     "metadata": {
      "needs_background": "light"
     },
     "output_type": "display_data"
    },
    {
     "name": "stderr",
     "output_type": "stream",
     "text": [
      "C:\\Users\\Tushar\\anaconda3\\lib\\site-packages\\seaborn\\_decorators.py:36: FutureWarning: Pass the following variable as a keyword arg: x. From version 0.12, the only valid positional argument will be `data`, and passing other arguments without an explicit keyword will result in an error or misinterpretation.\n",
      "  warnings.warn(\n"
     ]
    },
    {
     "data": {
      "image/png": "[encoded data removed]",
      "text/plain": [
       "<Figure size 432x288 with 1 Axes>"
      ]
     },
     "metadata": {
      "needs_background": "light"
     },
     "output_type": "display_data"
    }
   ],
   "source": [
    "###checking the outlier for whole data\n",
    "for i in range(0,20):\n",
    "    sns.boxplot(df_1[data[i]])\n",
    "    plt.show()"
   ]
  },
  {
   "cell_type": "code",
   "execution_count": 38,
   "id": "943a99b1",
   "metadata": {},
   "outputs": [
    {
     "name": "stdout",
     "output_type": "stream",
     "text": [
      "[0.18301949 0.0606813  0.50795387 ... 1.03548446 1.80769141 0.91412185]\n",
      "(array([ 39, 184, 309, 980, 996], dtype=int64),)\n",
      "[0.51252423 0.23507403 0.41539589 ... 0.513661   0.14214976 0.41539589]\n",
      "(array([  26,   93,  196,  239,  272,  423,  425,  439,  495,  555,  588,\n",
      "        676,  683,  765,  830,  863, 1010, 1072, 1104, 1121, 1210],\n",
      "      dtype=int64),)\n",
      "[4.77545078 0.05129227 0.05129227 ... 0.05129227 0.05129227 0.05129227]\n",
      "(array([   0,    4,   25,   28,   47,   60,   67,   85,   99,  135,  176,\n",
      "        182,  184,  189,  208,  226,  308,  317,  329,  345,  370,  394,\n",
      "        400,  402,  414,  427,  475,  496,  501,  521,  544,  547,  574,\n",
      "        624,  637,  651,  652,  657,  689,  718,  743,  790,  846,  850,\n",
      "        857,  886,  938,  985,  987,  996, 1038, 1041, 1047, 1051, 1070,\n",
      "       1112, 1127, 1141, 1149, 1160, 1188], dtype=int64),)\n",
      "[2.76006681 0.21391091 0.28826035 ... 4.470104   1.14916221 0.26936047]\n",
      "(array([  44,   67,   83,  134,  177,  272,  306,  338,  439,  441,  444,\n",
      "        488,  523,  550,  576,  637,  640,  651,  657,  673,  712,  809,\n",
      "        884,  925,  994, 1029, 1104, 1146, 1171, 1202, 1210, 1230, 1246],\n",
      "      dtype=int64),)\n",
      "[2.58458311 0.50230519 0.51465274 ... 3.85638109 1.80668726 0.3990662 ]\n",
      "(array([   8,   44,   53,   67,  134,  272,  306,  439,  441,  444,  460,\n",
      "        495,  523,  550,  576,  583,  598,  640,  657,  673,  700,  884,\n",
      "        901,  925,  994, 1001, 1021, 1078, 1104, 1202, 1210, 1246],\n",
      "      dtype=int64),)\n",
      "[3.40402422 0.14142038 0.57869188 ... 4.33765796 2.09220972 0.14221519]\n",
      "(array([   0,   67,   95,  177,  218,  254,  263,  293,  306,  441,  444,\n",
      "        523,  550,  576,  598,  637,  640,  649,  657,  673,  711,  712,\n",
      "        884,  901,  994, 1001, 1007, 1021, 1029, 1146, 1246], dtype=int64),)\n",
      "[0.75645309 0.18466836 0.18937722 ... 0.4983655  0.05477088 0.16856732]\n",
      "(array([ 312,  314,  358,  640,  961,  994, 1001, 1075, 1078], dtype=int64),)\n",
      "[0.71245886 0.22336907 0.23524182 ... 0.20316308 0.1589152  0.08586899]\n",
      "(array([  95,  100,  141,  314,  584,  640,  700,  942,  961, 1001, 1029,\n",
      "       1176, 1210], dtype=int64),)\n",
      "[1.87858983 0.23693101 0.32167581 ... 0.56168767 0.16363166 0.02574503]\n",
      "(array([  95,  100,  177,  263,  314,  495,  550,  584,  637,  640,  670,\n",
      "        711,  779,  852,  942,  994, 1001, 1029, 1078, 1139, 1188, 1241],\n",
      "      dtype=int64),)\n",
      "[0.17629986 0.41463881 0.47176919 ... 4.09126854 0.25016719 0.26690414]\n",
      "(array([  67,  134,  166,  177,  186,  201,  272,  293,  423,  441,  460,\n",
      "        488,  550,  649,  657,  850,  994, 1039, 1202, 1210, 1246],\n",
      "      dtype=int64),)\n",
      "[1.15323872 0.31311083 0.01984092 ... 4.96574755 0.42006395 0.42006395]\n",
      "(array([  67,  134,  166,  177,  186,  201,  254,  272,  293,  423,  441,\n",
      "        460,  492,  529,  550,  598,  649,  673,  718,  850,  909,  994,\n",
      "       1021, 1039, 1202, 1210, 1246], dtype=int64),)\n",
      "[1.58531237 0.33203831 0.26102532 ... 4.92292282 1.01720846 0.73315651]\n",
      "(array([   5,   67,  134,  177,  201,  218,  254,  262,  263,  272,  281,\n",
      "        293,  441,  492,  529,  564,  566,  576,  598,  649,  657,  673,\n",
      "        850,  909,  994, 1021, 1039, 1100, 1246], dtype=int64),)\n",
      "[0.74077322 0.18332128 0.24569512 ... 0.38459256 0.04187669 0.17075049]\n",
      "(array([ 640,  838,  961,  994, 1001, 1029, 1078, 1142], dtype=int64),)\n",
      "[1.38040579 0.28423212 0.07353852 ... 0.39720171 0.20545992 0.09982416]\n",
      "(array([  95,  100,  314,  391,  495,  584,  637,  640,  700,  838,  942,\n",
      "        961, 1001, 1029, 1039, 1127, 1142, 1210], dtype=int64),)\n",
      "[1.63103714 0.19204445 0.18148273 ... 0.52589215 0.07760896 0.06884801]\n",
      "(array([  95,  100,  314,  637,  640,  779, 1001, 1029, 1039, 1142],\n",
      "      dtype=int64),)\n",
      "[1.21856623 0.25163635 0.28409886 ... 0.49135372 0.14066258 0.05350701]\n",
      "(array([  95,  100,  312,  314,  358,  584,  637,  640,  961,  994, 1001,\n",
      "       1029, 1078, 1188], dtype=int64),)\n",
      "[3.0604143  0.29711838 0.4841202  ... 4.42042754 1.76840172 0.28088724]\n",
      "(array([   0,    8,   67,  134,  177,  263,  272,  306,  439,  441,  444,\n",
      "        523,  550,  576,  637,  640,  657,  673,  712,  884,  901,  925,\n",
      "        994, 1001, 1021, 1029, 1104, 1146, 1171, 1202, 1210, 1246],\n",
      "      dtype=int64),)\n",
      "[1.28424861 0.22837029 0.0251194  ... 0.46497179 0.10380453 0.07097811]\n",
      "(array([  95,  100,  314,  637,  640,  838,  961, 1001, 1029, 1078, 1142],\n",
      "      dtype=int64),)\n",
      "[1.05171882 0.37864792 0.06346543 ... 5.00473235 0.60960546 0.32353211]\n",
      "(array([  67,  134,  166,  177,  186,  201,  254,  272,  293,  423,  441,\n",
      "        460,  488,  550,  598,  649,  673,  718,  850,  909,  994, 1021,\n",
      "       1039, 1202, 1210, 1246], dtype=int64),)\n",
      "[2.88902199 0.32087234 0.42343701 ... 4.68200439 1.66964202 0.29831438]\n",
      "(array([  67,  134,  177,  254,  263,  272,  293,  306,  441,  444,  523,\n",
      "        550,  576,  637,  640,  649,  657,  673,  712,  884,  901,  925,\n",
      "        994, 1001, 1021, 1029, 1104, 1146, 1171, 1202, 1210, 1246],\n",
      "      dtype=int64),)\n"
     ]
    }
   ],
   "source": [
    "for i in range(0,20):\n",
    "\n",
    "    df_1[data[i]]\n",
    "    z = np.abs(stats.zscore(df_1[data[i]]))\n",
    "    print(z)\n",
    "    threshold = 3\n",
    "    # Position of the outlier\n",
    "    print(np.where(z > 3))\n",
    "    # IQR\n",
    "    Q1 = np.percentile(df_1[data[i]], 25,\n",
    "                       interpolation = 'midpoint')\n",
    "\n",
    "    Q3 = np.percentile(df_1[data[i]], 75,\n",
    "                       interpolation = 'midpoint')\n",
    "    IQR = Q3 - Q1"
   ]
  },
  {
   "cell_type": "code",
   "execution_count": 39,
   "id": "bb72cae4",
   "metadata": {},
   "outputs": [
    {
     "name": "stdout",
     "output_type": "stream",
     "text": [
      "Old Shape:  (1249, 29)\n",
      "New Shape:  (1121, 29)\n"
     ]
    }
   ],
   "source": [
    "''' Detection '''\n",
    "# IQR\n",
    "Q1 = np.percentile(df_1[data[i]], 25,\n",
    "                   interpolation = 'midpoint')\n",
    " \n",
    "Q3 = np.percentile(df_1[data[i]], 75,\n",
    "                   interpolation = 'midpoint')\n",
    "IQR = Q3 - Q1\n",
    " \n",
    "print(\"Old Shape: \", df_1.shape)\n",
    " \n",
    "# Upper bound\n",
    "upper = np.where(df_1[data[i]] >= (Q3+1.5*IQR))\n",
    "# Lower bound\n",
    "lower = np.where(df_1[data[i]] <= (Q1-1.5*IQR))\n",
    " \n",
    "''' Removing the Outliers '''\n",
    "df_1.drop(upper[0], inplace = True)\n",
    "df_1.drop(lower[0], inplace = True)\n",
    " \n",
    "print(\"New Shape: \", df_1.shape)"
   ]
  },
  {
   "cell_type": "markdown",
   "id": "321cdfcf",
   "metadata": {},
   "source": [
    "# Random Forest model for machine learning"
   ]
  },
  {
   "cell_type": "code",
   "execution_count": 40,
   "id": "545a504a",
   "metadata": {},
   "outputs": [
    {
     "data": {
      "text/plain": [
       "Index(['cif', 'cus_dob', 'age', 'cus_month_income', 'cus_gender',\n",
       "       'cus_marital_status', 'cus_customer_since', 'years_with_us',\n",
       "       '# total debit transactions for s1',\n",
       "       '# total debit transactions for s2',\n",
       "       '# total debit transactions for s3', 'total debit amount for s1',\n",
       "       'total debit amount for s2', 'total debit amount for s3',\n",
       "       '# total credit transactions for s1',\n",
       "       '# total credit transactions for s2',\n",
       "       '# total credit transactions for s3', 'total credit amount for s1',\n",
       "       'total credit amount for s2', 'total credit amount for s3',\n",
       "       'total debit amount', 'total debit transactions', 'total credit amount',\n",
       "       'total credit transactions', 'total transactions', 'cus_target',\n",
       "       'tar_desc', 'status', 'perc_reduc_debit_amount'],\n",
       "      dtype='object')"
      ]
     },
     "execution_count": 40,
     "metadata": {},
     "output_type": "execute_result"
    }
   ],
   "source": [
    "df_1.columns"
   ]
  },
  {
   "cell_type": "code",
   "execution_count": 41,
   "id": "d492612b",
   "metadata": {},
   "outputs": [],
   "source": [
    "##\n",
    "var_columns=['age', 'cus_month_income', 'cus_gender',\n",
    "       'cus_marital_status', 'years_with_us',\n",
    "       '# total debit transactions for s1',\n",
    "       '# total debit transactions for s2',\n",
    "       '# total debit transactions for s3', 'total debit amount for s1',\n",
    "       'total debit amount for s2', 'total debit amount for s3',\n",
    "       '# total credit transactions for s1',\n",
    "       '# total credit transactions for s2',\n",
    "       '# total credit transactions for s3', 'total credit amount for s1',\n",
    "       'total credit amount for s2', 'total credit amount for s3',\n",
    "       'total debit amount', 'total debit transactions', 'total credit amount',\n",
    "       'total credit transactions', 'total transactions', 'cus_target',\n",
    "       'tar_desc']"
   ]
  },
  {
   "cell_type": "code",
   "execution_count": 42,
   "id": "9e8be662",
   "metadata": {
    "scrolled": true
   },
   "outputs": [
    {
     "data": {
      "text/plain": [
       "['age',\n",
       " 'cus_month_income',\n",
       " 'cus_gender',\n",
       " 'cus_marital_status',\n",
       " 'years_with_us',\n",
       " '# total debit transactions for s1',\n",
       " '# total debit transactions for s2',\n",
       " '# total debit transactions for s3',\n",
       " 'total debit amount for s1',\n",
       " 'total debit amount for s2',\n",
       " 'total debit amount for s3',\n",
       " '# total credit transactions for s1',\n",
       " '# total credit transactions for s2',\n",
       " '# total credit transactions for s3',\n",
       " 'total credit amount for s1',\n",
       " 'total credit amount for s2',\n",
       " 'total credit amount for s3',\n",
       " 'total debit amount',\n",
       " 'total debit transactions',\n",
       " 'total credit amount',\n",
       " 'total credit transactions',\n",
       " 'total transactions',\n",
       " 'cus_target',\n",
       " 'tar_desc']"
      ]
     },
     "execution_count": 42,
     "metadata": {},
     "output_type": "execute_result"
    }
   ],
   "source": [
    "var_columns"
   ]
  },
  {
   "cell_type": "code",
   "execution_count": 43,
   "id": "6c0ff75d",
   "metadata": {},
   "outputs": [
    {
     "data": {
      "text/plain": [
       "((896, 24), (225, 24), (896,), (225,))"
      ]
     },
     "execution_count": 43,
     "metadata": {},
     "output_type": "execute_result"
    }
   ],
   "source": [
    "X = df_1.loc[:,var_columns]\n",
    "y = df_1.loc[:,'status']\n",
    "    \n",
    "X_train, X_test, y_train, y_test = train_test_split(X, y, test_size= 0.2, random_state = 100)\n",
    "X_train.shape, X_test.shape, y_train.shape, y_test.shape"
   ]
  },
  {
   "cell_type": "code",
   "execution_count": 44,
   "id": "b5f6101a",
   "metadata": {},
   "outputs": [],
   "source": [
    "from sklearn.ensemble import RandomForestClassifier"
   ]
  },
  {
   "cell_type": "code",
   "execution_count": 45,
   "id": "7b16c3c8",
   "metadata": {},
   "outputs": [
    {
     "data": {
      "text/plain": [
       "RandomForestClassifier()"
      ]
     },
     "execution_count": 45,
     "metadata": {},
     "output_type": "execute_result"
    }
   ],
   "source": [
    "model_rf = RandomForestClassifier()\n",
    "model_rf.fit(X_train, y_train)"
   ]
  },
  {
   "cell_type": "code",
   "execution_count": 46,
   "id": "4cc891cc",
   "metadata": {
    "scrolled": true
   },
   "outputs": [
    {
     "name": "stdout",
     "output_type": "stream",
     "text": [
      "      y_Actual  y_Predicted\n",
      "224          0         0.00\n",
      "855          0         0.30\n",
      "1238         0         0.13\n",
      "159          0         0.09\n",
      "625          0         0.00\n",
      "...        ...          ...\n",
      "524          0         0.32\n",
      "468          0         0.00\n",
      "1175         0         0.23\n",
      "833          0         0.22\n",
      "312          0         0.22\n",
      "\n",
      "[225 rows x 2 columns]\n"
     ]
    }
   ],
   "source": [
    "y_train_pred = model_rf.predict_proba(X_train)[:,1]\n",
    "y_test_pred = model_rf.predict_proba(X_test)[:,1]\n",
    "\n",
    "data = {'y_Actual': y_test,'y_Predicted': y_test_pred}\n",
    "df_cm = pd.DataFrame(data, columns=['y_Actual','y_Predicted'])\n",
    "print(df_cm)"
   ]
  },
  {
   "cell_type": "code",
   "execution_count": 47,
   "id": "77dff825",
   "metadata": {},
   "outputs": [],
   "source": [
    "from sklearn.metrics import classification_report, confusion_matrix\n",
    "from sklearn.model_selection import train_test_split, GridSearchCV\n",
    "# from sklearn.model_selection import GridSearchCV\n",
    "from sklearn.metrics import roc_auc_score,roc_curve,precision_recall_curve,plot_precision_recall_curve,average_precision_score\n",
    "from sklearn.metrics import roc_curve\n",
    "from sklearn.metrics import precision_recall_curve\n",
    "from sklearn.metrics import plot_precision_recall_curve\n",
    "from sklearn.metrics import average_precision_score\n",
    "from matplotlib import pyplot as plt\n",
    "from numpy import mean\n",
    "from numpy import std\n",
    "from sklearn.datasets import make_classification\n",
    "from sklearn.model_selection import KFold\n",
    "from sklearn.model_selection import cross_val_score\n",
    "from sklearn import model_selection, preprocessing, feature_selection, ensemble, linear_model, metrics, decomposition"
   ]
  },
  {
   "cell_type": "code",
   "execution_count": 48,
   "id": "bce98881",
   "metadata": {},
   "outputs": [],
   "source": [
    "from sklearn.model_selection import train_test_split\n",
    "from sklearn.ensemble import RandomForestClassifier\n",
    "from sklearn.metrics import confusion_matrix, accuracy_score, classification_report"
   ]
  },
  {
   "cell_type": "code",
   "execution_count": 49,
   "id": "93799ec3",
   "metadata": {},
   "outputs": [
    {
     "name": "stdout",
     "output_type": "stream",
     "text": [
      "Confusion Matrix:\n",
      "[[167  16]\n",
      " [ 18  24]]\n",
      "Classification Report\n",
      "              precision    recall  f1-score   support\n",
      "\n",
      "           0       0.90      0.91      0.91       183\n",
      "           1       0.60      0.57      0.59        42\n",
      "\n",
      "    accuracy                           0.85       225\n",
      "   macro avg       0.75      0.74      0.75       225\n",
      "weighted avg       0.85      0.85      0.85       225\n",
      "\n"
     ]
    }
   ],
   "source": [
    "rf_clf2 = RandomForestClassifier(n_estimators = 750, random_state = 100, min_samples_split= 4, min_samples_leaf= 1, max_features= 7, max_depth= 7)\n",
    "rf_clf2.fit(X_train, y_train)\n",
    "predictions = rf_clf2.predict(X_test)\n",
    "print(\"Confusion Matrix:\")\n",
    "print(confusion_matrix(y_test, predictions))\n",
    "print(\"Classification Report\")\n",
    "print(classification_report(y_test, predictions))"
   ]
  },
  {
   "cell_type": "code",
   "execution_count": 50,
   "id": "9a63dec9",
   "metadata": {},
   "outputs": [
    {
     "name": "stdout",
     "output_type": "stream",
     "text": [
      "threshold= 0.1\n",
      "Confusion Matrix:\n",
      "[[104  79]\n",
      " [  4  38]]\n",
      "Classification Report\n",
      "              precision    recall  f1-score   support\n",
      "\n",
      "           0       0.96      0.57      0.71       183\n",
      "           1       0.32      0.90      0.48        42\n",
      "\n",
      "    accuracy                           0.63       225\n",
      "   macro avg       0.64      0.74      0.60       225\n",
      "weighted avg       0.84      0.63      0.67       225\n",
      "\n",
      "threshold= 0.2\n",
      "Confusion Matrix:\n",
      "[[139  44]\n",
      " [  8  34]]\n",
      "Classification Report\n",
      "              precision    recall  f1-score   support\n",
      "\n",
      "           0       0.95      0.76      0.84       183\n",
      "           1       0.44      0.81      0.57        42\n",
      "\n",
      "    accuracy                           0.77       225\n",
      "   macro avg       0.69      0.78      0.70       225\n",
      "weighted avg       0.85      0.77      0.79       225\n",
      "\n",
      "threshold= 0.22\n",
      "Confusion Matrix:\n",
      "[[148  35]\n",
      " [  9  33]]\n",
      "Classification Report\n",
      "              precision    recall  f1-score   support\n",
      "\n",
      "           0       0.94      0.81      0.87       183\n",
      "           1       0.49      0.79      0.60        42\n",
      "\n",
      "    accuracy                           0.80       225\n",
      "   macro avg       0.71      0.80      0.74       225\n",
      "weighted avg       0.86      0.80      0.82       225\n",
      "\n",
      "threshold= 0.24\n",
      "Confusion Matrix:\n",
      "[[153  30]\n",
      " [ 10  32]]\n",
      "Classification Report\n",
      "              precision    recall  f1-score   support\n",
      "\n",
      "           0       0.94      0.84      0.88       183\n",
      "           1       0.52      0.76      0.62        42\n",
      "\n",
      "    accuracy                           0.82       225\n",
      "   macro avg       0.73      0.80      0.75       225\n",
      "weighted avg       0.86      0.82      0.83       225\n",
      "\n",
      "threshold= 0.26\n",
      "Confusion Matrix:\n",
      "[[153  30]\n",
      " [ 10  32]]\n",
      "Classification Report\n",
      "              precision    recall  f1-score   support\n",
      "\n",
      "           0       0.94      0.84      0.88       183\n",
      "           1       0.52      0.76      0.62        42\n",
      "\n",
      "    accuracy                           0.82       225\n",
      "   macro avg       0.73      0.80      0.75       225\n",
      "weighted avg       0.86      0.82      0.83       225\n",
      "\n",
      "threshold= 0.28\n",
      "Confusion Matrix:\n",
      "[[155  28]\n",
      " [ 10  32]]\n",
      "Classification Report\n",
      "              precision    recall  f1-score   support\n",
      "\n",
      "           0       0.94      0.85      0.89       183\n",
      "           1       0.53      0.76      0.63        42\n",
      "\n",
      "    accuracy                           0.83       225\n",
      "   macro avg       0.74      0.80      0.76       225\n",
      "weighted avg       0.86      0.83      0.84       225\n",
      "\n",
      "threshold= 0.3\n",
      "Confusion Matrix:\n",
      "[[155  28]\n",
      " [ 10  32]]\n",
      "Classification Report\n",
      "              precision    recall  f1-score   support\n",
      "\n",
      "           0       0.94      0.85      0.89       183\n",
      "           1       0.53      0.76      0.63        42\n",
      "\n",
      "    accuracy                           0.83       225\n",
      "   macro avg       0.74      0.80      0.76       225\n",
      "weighted avg       0.86      0.83      0.84       225\n",
      "\n",
      "threshold= 0.31\n",
      "Confusion Matrix:\n",
      "[[155  28]\n",
      " [ 11  31]]\n",
      "Classification Report\n",
      "              precision    recall  f1-score   support\n",
      "\n",
      "           0       0.93      0.85      0.89       183\n",
      "           1       0.53      0.74      0.61        42\n",
      "\n",
      "    accuracy                           0.83       225\n",
      "   macro avg       0.73      0.79      0.75       225\n",
      "weighted avg       0.86      0.83      0.84       225\n",
      "\n",
      "threshold= 0.32\n",
      "Confusion Matrix:\n",
      "[[156  27]\n",
      " [ 12  30]]\n",
      "Classification Report\n",
      "              precision    recall  f1-score   support\n",
      "\n",
      "           0       0.93      0.85      0.89       183\n",
      "           1       0.53      0.71      0.61        42\n",
      "\n",
      "    accuracy                           0.83       225\n",
      "   macro avg       0.73      0.78      0.75       225\n",
      "weighted avg       0.85      0.83      0.84       225\n",
      "\n",
      "threshold= 0.33\n",
      "Confusion Matrix:\n",
      "[[158  25]\n",
      " [ 13  29]]\n",
      "Classification Report\n",
      "              precision    recall  f1-score   support\n",
      "\n",
      "           0       0.92      0.86      0.89       183\n",
      "           1       0.54      0.69      0.60        42\n",
      "\n",
      "    accuracy                           0.83       225\n",
      "   macro avg       0.73      0.78      0.75       225\n",
      "weighted avg       0.85      0.83      0.84       225\n",
      "\n",
      "threshold= 0.34\n",
      "Confusion Matrix:\n",
      "[[158  25]\n",
      " [ 13  29]]\n",
      "Classification Report\n",
      "              precision    recall  f1-score   support\n",
      "\n",
      "           0       0.92      0.86      0.89       183\n",
      "           1       0.54      0.69      0.60        42\n",
      "\n",
      "    accuracy                           0.83       225\n",
      "   macro avg       0.73      0.78      0.75       225\n",
      "weighted avg       0.85      0.83      0.84       225\n",
      "\n",
      "threshold= 0.35\n",
      "Confusion Matrix:\n",
      "[[161  22]\n",
      " [ 14  28]]\n",
      "Classification Report\n",
      "              precision    recall  f1-score   support\n",
      "\n",
      "           0       0.92      0.88      0.90       183\n",
      "           1       0.56      0.67      0.61        42\n",
      "\n",
      "    accuracy                           0.84       225\n",
      "   macro avg       0.74      0.77      0.75       225\n",
      "weighted avg       0.85      0.84      0.85       225\n",
      "\n",
      "threshold= 0.4\n",
      "Confusion Matrix:\n",
      "[[164  19]\n",
      " [ 15  27]]\n",
      "Classification Report\n",
      "              precision    recall  f1-score   support\n",
      "\n",
      "           0       0.92      0.90      0.91       183\n",
      "           1       0.59      0.64      0.61        42\n",
      "\n",
      "    accuracy                           0.85       225\n",
      "   macro avg       0.75      0.77      0.76       225\n",
      "weighted avg       0.85      0.85      0.85       225\n",
      "\n",
      "threshold= 0.5\n",
      "Confusion Matrix:\n",
      "[[167  16]\n",
      " [ 18  24]]\n",
      "Classification Report\n",
      "              precision    recall  f1-score   support\n",
      "\n",
      "           0       0.90      0.91      0.91       183\n",
      "           1       0.60      0.57      0.59        42\n",
      "\n",
      "    accuracy                           0.85       225\n",
      "   macro avg       0.75      0.74      0.75       225\n",
      "weighted avg       0.85      0.85      0.85       225\n",
      "\n",
      "threshold= 0.6\n",
      "Confusion Matrix:\n",
      "[[172  11]\n",
      " [ 25  17]]\n",
      "Classification Report\n",
      "              precision    recall  f1-score   support\n",
      "\n",
      "           0       0.87      0.94      0.91       183\n",
      "           1       0.61      0.40      0.49        42\n",
      "\n",
      "    accuracy                           0.84       225\n",
      "   macro avg       0.74      0.67      0.70       225\n",
      "weighted avg       0.82      0.84      0.83       225\n",
      "\n",
      "threshold= 0.7\n",
      "Confusion Matrix:\n",
      "[[178   5]\n",
      " [ 35   7]]\n",
      "Classification Report\n",
      "              precision    recall  f1-score   support\n",
      "\n",
      "           0       0.84      0.97      0.90       183\n",
      "           1       0.58      0.17      0.26        42\n",
      "\n",
      "    accuracy                           0.82       225\n",
      "   macro avg       0.71      0.57      0.58       225\n",
      "weighted avg       0.79      0.82      0.78       225\n",
      "\n",
      "threshold= 0.8\n",
      "Confusion Matrix:\n",
      "[[181   2]\n",
      " [ 39   3]]\n",
      "Classification Report\n",
      "              precision    recall  f1-score   support\n",
      "\n",
      "           0       0.82      0.99      0.90       183\n",
      "           1       0.60      0.07      0.13        42\n",
      "\n",
      "    accuracy                           0.82       225\n",
      "   macro avg       0.71      0.53      0.51       225\n",
      "weighted avg       0.78      0.82      0.75       225\n",
      "\n",
      "threshold= 0.9\n",
      "Confusion Matrix:\n",
      "[[183   0]\n",
      " [ 42   0]]\n",
      "Classification Report\n",
      "              precision    recall  f1-score   support\n",
      "\n",
      "           0       0.81      1.00      0.90       183\n",
      "           1       0.00      0.00      0.00        42\n",
      "\n",
      "    accuracy                           0.81       225\n",
      "   macro avg       0.41      0.50      0.45       225\n",
      "weighted avg       0.66      0.81      0.73       225\n",
      "\n"
     ]
    },
    {
     "name": "stderr",
     "output_type": "stream",
     "text": [
      "C:\\Users\\Tushar\\anaconda3\\lib\\site-packages\\sklearn\\metrics\\_classification.py:1245: UndefinedMetricWarning: Precision and F-score are ill-defined and being set to 0.0 in labels with no predicted samples. Use `zero_division` parameter to control this behavior.\n",
      "  _warn_prf(average, modifier, msg_start, len(result))\n",
      "C:\\Users\\Tushar\\anaconda3\\lib\\site-packages\\sklearn\\metrics\\_classification.py:1245: UndefinedMetricWarning: Precision and F-score are ill-defined and being set to 0.0 in labels with no predicted samples. Use `zero_division` parameter to control this behavior.\n",
      "  _warn_prf(average, modifier, msg_start, len(result))\n",
      "C:\\Users\\Tushar\\anaconda3\\lib\\site-packages\\sklearn\\metrics\\_classification.py:1245: UndefinedMetricWarning: Precision and F-score are ill-defined and being set to 0.0 in labels with no predicted samples. Use `zero_division` parameter to control this behavior.\n",
      "  _warn_prf(average, modifier, msg_start, len(result))\n"
     ]
    }
   ],
   "source": [
    "thres=[0.1,0.2,0.22,0.24,0.26,0.28,0.3,0.31,0.32,0.33,0.34,0.35,0.4,0.5,0.6,0.7,0.8,0.9] \n",
    "for i in thres:\n",
    "    print(\"threshold=\",i)\n",
    "\n",
    "    #probability  scores of test data\n",
    "    predictions2 = rf_clf2.predict_proba(X_test)[:,1]\n",
    "    predictions2\n",
    "    predictions3 = np.where(predictions2<i,0 ,1)\n",
    "\n",
    "    #gb_clf2 = GradientBoostingClassifier(n_estimators=150, learning_rate=0.5, random_state= 42)\n",
    "    #gb_clf2.fit(X_train, y_train)'''\n",
    "    #predictions = gb_clf2.predict(X_valid)\n",
    "    print(\"Confusion Matrix:\")\n",
    "    print(confusion_matrix(y_test, predictions3))\n",
    "    print(\"Classification Report\")\n",
    "    print(classification_report(y_test, predictions3))"
   ]
  },
  {
   "cell_type": "code",
   "execution_count": 51,
   "id": "e6f0a1db",
   "metadata": {},
   "outputs": [
    {
     "name": "stdout",
     "output_type": "stream",
     "text": [
      "Best Model parameters: {'n_estimators': 1500, 'min_samples_split': 2, 'min_samples_leaf': 3, 'max_features': 6, 'max_depth': 7}\n",
      "Best Model mean accuracy: 0.8560086902545004\n"
     ]
    }
   ],
   "source": [
    "## call model\n",
    "model_rf = ensemble.RandomForestClassifier()\n",
    "## define hyperparameters combinations to try\n",
    "param_dic = {    \n",
    "'n_estimators':[100,250,500,750,1000,1250,1500,1750],  #number of trees added to the model\n",
    "'max_depth':[2,3,4,5,6,7],    #maximum depth of the tree\n",
    "'min_samples_split':[2,4,6,8,10,20,40,60,100],    #sets the minimum number of samples to split\n",
    "'min_samples_leaf':[1,3,5,7,9],     #the minimum number of samples to form a leaf\n",
    "'max_features':[2,3,4,5,6,7],     #square root of features is usually a good starting point\n",
    "}\n",
    "## random search\n",
    "random_search = model_selection.RandomizedSearchCV(model_rf, param_distributions=param_dic, n_iter=150, scoring=\"accuracy\").fit(X_train, y_train)\n",
    "print(\"Best Model parameters:\", random_search.best_params_)\n",
    "print(\"Best Model mean accuracy:\", random_search.best_score_)\n",
    "model_rf = random_search.best_estimator_"
   ]
  },
  {
   "cell_type": "code",
   "execution_count": 52,
   "id": "f5831320",
   "metadata": {},
   "outputs": [
    {
     "data": {
      "image/png": "[encoded data removed]",
      "text/plain": [
       "<Figure size 432x288 with 1 Axes>"
      ]
     },
     "metadata": {
      "needs_background": "light"
     },
     "output_type": "display_data"
    }
   ],
   "source": [
    "import sklearn.metrics as metrics\n",
    "# calculate the fpr and tpr for all thresholds of the classification\n",
    "probs = model_rf.predict_proba(X_test)\n",
    "preds = probs[:,1]\n",
    "fpr, tpr, threshold = metrics.roc_curve(y_test, y_test_pred)\n",
    "roc_auc = metrics.auc(fpr, tpr)\n",
    "\n",
    "# method I: plt\n",
    "import matplotlib.pyplot as plt\n",
    "plt.title('Receiver Operating Characteristic')\n",
    "plt.plot(fpr, tpr, 'b', label = 'AUC = %0.2f' % roc_auc)\n",
    "plt.legend(loc = 'lower right')\n",
    "plt.plot([0, 1], [0, 1],'r--')\n",
    "plt.xlim([0, 1])\n",
    "plt.ylim([0, 1])\n",
    "plt.ylabel('True Positive Rate')\n",
    "plt.xlabel('False Positive Rate')\n",
    "plt.show()"
   ]
  },
  {
   "cell_type": "code",
   "execution_count": 53,
   "id": "4dca65de",
   "metadata": {},
   "outputs": [
    {
     "data": {
      "text/plain": [
       "<matplotlib.legend.Legend at 0x189654d2580>"
      ]
     },
     "execution_count": 53,
     "metadata": {},
     "output_type": "execute_result"
    },
    {
     "data": {
      "image/png": "[encoded data removed]",
      "text/plain": [
       "<Figure size 720x432 with 1 Axes>"
      ]
     },
     "metadata": {
      "needs_background": "light"
     },
     "output_type": "display_data"
    }
   ],
   "source": [
    "#Visualize the CAP Curve Analysis including all 4 classification models\n",
    "total = len(y_test) \n",
    "one_count = np.sum(y_test) \n",
    "zero_count = total - one_count \n",
    "lm_gb = [y for _, y in sorted(zip(y_test_pred, y_test), reverse = True)]\n",
    "x = np.arange(0, total + 1) \n",
    "y_gb = np.append([0], np.cumsum(lm_gb)) \n",
    "plt.figure(figsize = (10, 6)) \n",
    "plt.plot([0, total], [0, one_count], c = 'b', linestyle = '--', label = 'Random Model')\n",
    "plt.plot([0, one_count, total], [0, one_count, one_count], c = 'grey', linewidth = 2, label = 'Perfect Model')\n",
    "plt.title('CAP Curve of Classifier')\n",
    "plt.plot(x, y_gb, c = 'b', label = 'RF classifier', linewidth = 2)\n",
    "plt.legend()"
   ]
  },
  {
   "cell_type": "code",
   "execution_count": 54,
   "id": "15c2118a",
   "metadata": {
    "scrolled": true
   },
   "outputs": [
    {
     "name": "stdout",
     "output_type": "stream",
     "text": [
      "Average precision-recall score: 0.55\n"
     ]
    },
    {
     "data": {
      "text/plain": [
       "Text(0.5, 1.0, 'Precision-Recall curve: AP=0.55')"
      ]
     },
     "execution_count": 54,
     "metadata": {},
     "output_type": "execute_result"
    },
    {
     "data": {
      "image/png": "[encoded data removed]",
      "text/plain": [
       "<Figure size 432x288 with 1 Axes>"
      ]
     },
     "metadata": {
      "needs_background": "light"
     },
     "output_type": "display_data"
    }
   ],
   "source": [
    "average_precision = average_precision_score(y_test, y_test_pred)\n",
    "print('Average precision-recall score: {0:0.2f}'.format(average_precision))\n",
    "disp = plot_precision_recall_curve(model_rf, X_test, y_test)\n",
    "disp.ax_.set_title('Precision-Recall curve: ''AP={0:0.2f}'.format(average_precision))"
   ]
  }
 ],
 "metadata": {
  "kernelspec": {
   "display_name": "Python 3",
   "language": "python",
   "name": "python3"
  },
  "language_info": {
   "codemirror_mode": {
    "name": "ipython",
    "version": 3
   },
   "file_extension": ".py",
   "mimetype": "text/x-python",
   "name": "python",
   "nbconvert_exporter": "python",
   "pygments_lexer": "ipython3",
   "version": "3.8.8"
  }
 },
 "nbformat": 4,
 "nbformat_minor": 5
}
